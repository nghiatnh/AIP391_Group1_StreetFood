{
 "cells": [
  {
   "cell_type": "code",
   "execution_count": 1,
   "metadata": {},
   "outputs": [],
   "source": [
    "import pandas as pd\n",
    "import matplotlib.pyplot as plt\n",
    "import numpy as np"
   ]
  },
  {
   "cell_type": "code",
   "execution_count": 2,
   "metadata": {},
   "outputs": [
    {
     "name": "stdout",
     "output_type": "stream",
     "text": [
      "     Unnamed: 0   ID Annotater     video id  Attractive Level (1-5)  \\\n",
      "0             1    1  nghiatnh  5OzrpNCyXqs                     5.0   \n",
      "1             2    2   hoangnd  5OzrpNCyXqs                     5.0   \n",
      "2             9    9  nghiatnh  3qfTtx3yG5U                     3.0   \n",
      "3            11   11      hanl  3qfTtx3yG5U                     4.0   \n",
      "4            15   15  nghiatnh  rSTBg8w7F8I                     3.0   \n",
      "..          ...  ...       ...          ...                     ...   \n",
      "239         711  671     haitm  HEYLbIedh9s                     2.0   \n",
      "240         712  672     Lamnh  HEYLbIedh9s                     2.0   \n",
      "241         713  673    taidpa  HEYLbIedh9s                     2.0   \n",
      "242         721  679     haitm  dGU9wkhW-Ms                     3.0   \n",
      "243         722  680    taidpa  dGU9wkhW-Ms                     3.0   \n",
      "\n",
      "     Question 2: Sound (1-5)  Question 2.1: Music (1-5)  \\\n",
      "0                        5.0                          4   \n",
      "1                        5.0                          5   \n",
      "2                        3.0                          4   \n",
      "3                        3.0                          3   \n",
      "4                        5.0                          5   \n",
      "..                       ...                        ...   \n",
      "239                      2.0                          2   \n",
      "240                      2.0                          1   \n",
      "241                      2.0                          2   \n",
      "242                      3.0                          3   \n",
      "243                      3.0                          3   \n",
      "\n",
      "     Question 2.2 : Noise control (1-5)  Question 2.3 : Speaking Style (1-5)  \\\n",
      "0                                     5                                    5   \n",
      "1                                     5                                    4   \n",
      "2                                     3                                    2   \n",
      "3                                     3                                    4   \n",
      "4                                     4                                    5   \n",
      "..                                  ...                                  ...   \n",
      "239                                   4                                    3   \n",
      "240                                   2                                    4   \n",
      "241                                   3                                    2   \n",
      "242                                   3                                    3   \n",
      "243                                   3                                    3   \n",
      "\n",
      "     Question 3: Camera (1-5)  ...  Question 4: Images (1-5)  \\\n",
      "0                         5.0  ...                       5.0   \n",
      "1                         5.0  ...                       5.0   \n",
      "2                         3.0  ...                       3.0   \n",
      "3                         4.0  ...                       4.0   \n",
      "4                         2.0  ...                       3.0   \n",
      "..                        ...  ...                       ...   \n",
      "239                       3.0  ...                       3.0   \n",
      "240                       3.0  ...                       3.0   \n",
      "241                       3.0  ...                       4.0   \n",
      "242                       4.0  ...                       4.0   \n",
      "243                       3.0  ...                       3.0   \n",
      "\n",
      "     Question 4.1: Resolution (1-5)  Question 4.2: Color (1-5)  \\\n",
      "0                                 5                          5   \n",
      "1                                 5                          5   \n",
      "2                                 4                          3   \n",
      "3                                 4                          4   \n",
      "4                                 3                          3   \n",
      "..                              ...                        ...   \n",
      "239                               4                          3   \n",
      "240                               4                          3   \n",
      "241                               4                          4   \n",
      "242                               4                          4   \n",
      "243                               4                          3   \n",
      "\n",
      "     Question 5: Content (1-5)  Question 5.1: Introduction (0-1)  \\\n",
      "0                            5                                 1   \n",
      "1                            5                                 1   \n",
      "2                            1                                 0   \n",
      "3                            4                                 1   \n",
      "4                            1                                 0   \n",
      "..                         ...                               ...   \n",
      "239                          3                                 1   \n",
      "240                          2                                 1   \n",
      "241                          5                                 1   \n",
      "242                          3                                10   \n",
      "243                          3                                 1   \n",
      "\n",
      "     Question 5.2: Food description (0-1)  Question 6: Reviewer (1-5)  \\\n",
      "0                                       1                         5.0   \n",
      "1                                       1                         5.0   \n",
      "2                                       1                         2.0   \n",
      "3                                       1                         3.0   \n",
      "4                                       0                         2.0   \n",
      "..                                    ...                         ...   \n",
      "239                                     0                         3.0   \n",
      "240                                     0                         4.0   \n",
      "241                                     1                         2.0   \n",
      "242                                     1                         3.0   \n",
      "243                                     0                         2.0   \n",
      "\n",
      "     Question 6.1: Reviewer emotion is negative - neutral - positive (1-3)  \\\n",
      "0                                                    3                       \n",
      "1                                                    3                       \n",
      "2                                                    2                       \n",
      "3                                                    2                       \n",
      "4                                                    2                       \n",
      "..                                                 ...                       \n",
      "239                                                  2                       \n",
      "240                                                  2                       \n",
      "241                                                  2                       \n",
      "242                                                  2                       \n",
      "243                                                  2                       \n",
      "\n",
      "     Question 6.2: Recommendation (0-1)  Question 6.3: Clear information (0-1)  \n",
      "0                                     0                                      1  \n",
      "1                                     0                                      1  \n",
      "2                                     0                                      0  \n",
      "3                                     0                                      1  \n",
      "4                                     0                                      0  \n",
      "..                                  ...                                    ...  \n",
      "239                                   0                                      0  \n",
      "240                                   0                                      0  \n",
      "241                                   0                                      0  \n",
      "242                                   0                                      1  \n",
      "243                                   0                                      0  \n",
      "\n",
      "[244 rows x 22 columns]\n"
     ]
    }
   ],
   "source": [
    "pf = pd.read_csv('../Data/data.csv')\n",
    "columns = pf.columns\n",
    "pf = pf[[x for x in columns if x != \"Question 1: Food frame (1-5)\" and x != \"Annotated count\"]].dropna()\n",
    "print(pf)"
   ]
  },
  {
   "cell_type": "code",
   "execution_count": 3,
   "metadata": {},
   "outputs": [
    {
     "name": "stdout",
     "output_type": "stream",
     "text": [
      "7      1.0\n",
      "23     1.0\n",
      "43     1.0\n",
      "100    1.0\n",
      "121    1.0\n",
      "126    1.0\n",
      "127    1.0\n",
      "145    1.0\n",
      "195    1.0\n",
      "216    1.0\n",
      "225    1.5\n",
      "Name: Attractive Level (1-5), dtype: float64\n"
     ]
    },
    {
     "data": {
      "image/png": "[encoded data removed]",
      "text/plain": [
       "<Figure size 432x288 with 1 Axes>"
      ]
     },
     "metadata": {
      "needs_background": "light"
     },
     "output_type": "display_data"
    }
   ],
   "source": [
    "plt.hist(pf[\"Attractive Level (1-5)\"])\n",
    "a = pf[\"Attractive Level (1-5)\"]\n",
    "print(pf[\"Attractive Level (1-5)\"][a < 2])"
   ]
  },
  {
   "cell_type": "code",
   "execution_count": 4,
   "metadata": {},
   "outputs": [],
   "source": [
    "# for x in pf.columns:\n",
    "#     try:\n",
    "#         plt.plot(pf[x],pf[\"Attractive Level (1-5)\"], 'ro')\n",
    "#         plt.show()\n",
    "#     except:\n",
    "#         pass"
   ]
  },
  {
   "cell_type": "code",
   "execution_count": 5,
   "metadata": {},
   "outputs": [],
   "source": [
    "columns = [\n",
    "       'Question 2: Sound (1-5)', 'Question 2.1: Music (1-5)',\n",
    "       'Question 2.2 : Noise control (1-5)',\n",
    "       'Question 2.3 : Speaking Style (1-5)', 'Question 3: Camera (1-5)',\n",
    "       'Question 3.1: Stable (1-5)', 'Question 3.2: Angel diversity (0-1)',\n",
    "       'Question 4: Images (1-5)', 'Question 4.1: Resolution (1-5)',\n",
    "       'Question 4.2: Color (1-5)', 'Question 5: Content (1-5)',\n",
    "       'Question 5.1: Introduction (0-1)',\n",
    "       'Question 5.2: Food description (0-1)', 'Question 6: Reviewer (1-5)',\n",
    "       'Question 6.1: Reviewer emotion is negative - neutral - positive (1-3)',\n",
    "       'Question 6.2: Recommendation (0-1)',\n",
    "       'Question 6.3: Clear information (0-1)']\n",
    "core_columns = [\n",
    "       'Question 2: Sound (1-5)','Question 3: Camera (1-5)',\n",
    "       'Question 4: Images (1-5)', 'Question 5: Content (1-5)',\n",
    "       'Question 6: Reviewer (1-5)',]\n",
    "output_column = 'Attractive Level (1-5)'"
   ]
  },
  {
   "cell_type": "code",
   "execution_count": 6,
   "metadata": {},
   "outputs": [
    {
     "name": "stdout",
     "output_type": "stream",
     "text": [
      "[3. 3. 2. 4. 2. 3. 3. 2. 2. 2.]\n",
      "[5. 5. 3. 4. 3. 3. 4. 1. 2. 2.]\n",
      "0.36666666666666664\n"
     ]
    }
   ],
   "source": [
    "from sklearn.naive_bayes import MultinomialNB\n",
    "\n",
    "model = MultinomialNB()\n",
    "X = np.array(pf[[x for x in columns if not x in core_columns]][:130])\n",
    "Y = np.array(pf[output_column][:130])\n",
    "model = model.fit(X[:100], Y[:100])\n",
    "print(model.predict(X[:10]))\n",
    "print(Y[:10])\n",
    "print(model.score(X[:30], Y[:30]))"
   ]
  },
  {
   "cell_type": "code",
   "execution_count": 7,
   "metadata": {},
   "outputs": [],
   "source": [
    "nghiatnh = pf[pf['Annotater'] == 'nghiatnh']\n",
    "hoangnd = pf[pf['Annotater'] == 'hoangnd']\n",
    "hanl = pf[pf['Annotater'] == 'hanl']"
   ]
  },
  {
   "cell_type": "code",
   "execution_count": 8,
   "metadata": {},
   "outputs": [
    {
     "name": "stdout",
     "output_type": "stream",
     "text": [
      "    Type              Description       ICC         F  df1  df2          pval  \\\n",
      "0   ICC1   Single raters absolute  0.636317  6.248948   31   64  3.474903e-10   \n",
      "1   ICC2     Single random raters  0.642427  7.274286   31   62  2.196565e-11   \n",
      "2   ICC3      Single fixed raters  0.676525  7.274286   31   62  2.196565e-11   \n",
      "3  ICC1k  Average raters absolute  0.839973  6.248948   31   64  3.474903e-10   \n",
      "4  ICC2k    Average random raters  0.843503  7.274286   31   62  2.196565e-11   \n",
      "5  ICC3k     Average fixed raters  0.862529  7.274286   31   62  2.196565e-11   \n",
      "\n",
      "          CI95%  \n",
      "0  [0.45, 0.79]  \n",
      "1  [0.45, 0.79]  \n",
      "2   [0.5, 0.81]  \n",
      "3  [0.71, 0.92]  \n",
      "4  [0.71, 0.92]  \n",
      "5  [0.75, 0.93]  \n"
     ]
    },
    {
     "name": "stderr",
     "output_type": "stream",
     "text": [
      "/home/nghiatnh/anaconda3/lib/python3.8/site-packages/pingouin/parametric.py:992: FutureWarning: Not prepending group keys to the result index of transform-like apply. In the future, the group keys will be included in the index, regardless of whether the applied function returns a like-indexed object.\n",
      "To preserve the previous behavior, use\n",
      "\n",
      "\t>>> .groupby(..., group_keys=False)\n",
      "\n",
      "To adopt the future behavior and silence this warning, use \n",
      "\n",
      "\t>>> .groupby(..., group_keys=True)\n",
      "  sserror = grp.apply(lambda x: (x - x.mean()) ** 2).sum()\n",
      "/home/nghiatnh/anaconda3/lib/python3.8/site-packages/pingouin/parametric.py:992: FutureWarning: Not prepending group keys to the result index of transform-like apply. In the future, the group keys will be included in the index, regardless of whether the applied function returns a like-indexed object.\n",
      "To preserve the previous behavior, use\n",
      "\n",
      "\t>>> .groupby(..., group_keys=False)\n",
      "\n",
      "To adopt the future behavior and silence this warning, use \n",
      "\n",
      "\t>>> .groupby(..., group_keys=True)\n",
      "  sserror = grp.apply(lambda x: (x - x.mean()) ** 2).sum()\n",
      "/home/nghiatnh/anaconda3/lib/python3.8/site-packages/pingouin/parametric.py:1071: FutureWarning: Not prepending group keys to the result index of transform-like apply. In the future, the group keys will be included in the index, regardless of whether the applied function returns a like-indexed object.\n",
      "To preserve the previous behavior, use\n",
      "\n",
      "\t>>> .groupby(..., group_keys=False)\n",
      "\n",
      "To adopt the future behavior and silence this warning, use \n",
      "\n",
      "\t>>> .groupby(..., group_keys=True)\n",
      "  ss_resid = np.sum(grp_both.apply(lambda x: (x - x.mean()) ** 2))\n"
     ]
    }
   ],
   "source": [
    "import pingouin as pg\n",
    "icc = pg.intraclass_corr(data=pf[['video id', 'Annotater', 'Attractive Level (1-5)']][:100], targets='video id', raters='Annotater',\n",
    "                         ratings='Attractive Level (1-5)',nan_policy='omit')\n",
    "print(icc)"
   ]
  },
  {
   "cell_type": "code",
   "execution_count": 9,
   "metadata": {},
   "outputs": [
    {
     "name": "stdout",
     "output_type": "stream",
     "text": [
      "    Type              Description       ICC     F  df1  df2      pval  \\\n",
      "0   ICC1   Single raters absolute  0.826087  10.5    2    3  0.044194   \n",
      "1   ICC2     Single random raters  0.833333  21.0    2    2  0.045455   \n",
      "2   ICC3      Single fixed raters  0.909091  21.0    2    2  0.045455   \n",
      "3  ICC1k  Average raters absolute  0.904762  10.5    2    3  0.044194   \n",
      "4  ICC2k    Average random raters  0.909091  21.0    2    2  0.045455   \n",
      "5  ICC3k     Average fixed raters  0.952381  21.0    2    2  0.045455   \n",
      "\n",
      "          CI95%  \n",
      "0  [-0.21, 1.0]  \n",
      "1   [-0.1, 1.0]  \n",
      "2   [-0.3, 1.0]  \n",
      "3  [-0.53, 1.0]  \n",
      "4  [-0.22, 1.0]  \n",
      "5  [-0.86, 1.0]  \n"
     ]
    },
    {
     "name": "stderr",
     "output_type": "stream",
     "text": [
      "/home/nghiatnh/anaconda3/lib/python3.8/site-packages/pingouin/parametric.py:992: FutureWarning: Not prepending group keys to the result index of transform-like apply. In the future, the group keys will be included in the index, regardless of whether the applied function returns a like-indexed object.\n",
      "To preserve the previous behavior, use\n",
      "\n",
      "\t>>> .groupby(..., group_keys=False)\n",
      "\n",
      "To adopt the future behavior and silence this warning, use \n",
      "\n",
      "\t>>> .groupby(..., group_keys=True)\n",
      "  sserror = grp.apply(lambda x: (x - x.mean()) ** 2).sum()\n",
      "/home/nghiatnh/anaconda3/lib/python3.8/site-packages/pingouin/parametric.py:992: FutureWarning: Not prepending group keys to the result index of transform-like apply. In the future, the group keys will be included in the index, regardless of whether the applied function returns a like-indexed object.\n",
      "To preserve the previous behavior, use\n",
      "\n",
      "\t>>> .groupby(..., group_keys=False)\n",
      "\n",
      "To adopt the future behavior and silence this warning, use \n",
      "\n",
      "\t>>> .groupby(..., group_keys=True)\n",
      "  sserror = grp.apply(lambda x: (x - x.mean()) ** 2).sum()\n",
      "/home/nghiatnh/anaconda3/lib/python3.8/site-packages/pingouin/parametric.py:1071: FutureWarning: Not prepending group keys to the result index of transform-like apply. In the future, the group keys will be included in the index, regardless of whether the applied function returns a like-indexed object.\n",
      "To preserve the previous behavior, use\n",
      "\n",
      "\t>>> .groupby(..., group_keys=False)\n",
      "\n",
      "To adopt the future behavior and silence this warning, use \n",
      "\n",
      "\t>>> .groupby(..., group_keys=True)\n",
      "  ss_resid = np.sum(grp_both.apply(lambda x: (x - x.mean()) ** 2))\n"
     ]
    }
   ],
   "source": [
    "icc = pg.intraclass_corr(data=pf[['video id', 'Annotater', 'Attractive Level (1-5)']][102:109], targets='video id', raters='Annotater',\n",
    "                         ratings='Attractive Level (1-5)',nan_policy='omit')\n",
    "print(icc)"
   ]
  },
  {
   "cell_type": "code",
   "execution_count": 10,
   "metadata": {},
   "outputs": [
    {
     "name": "stdout",
     "output_type": "stream",
     "text": [
      "0.5\n",
      "[5. 4. 3. 4. 4. 4. 5. 1. 1. 1.]\n",
      "[5. 5. 3. 4. 3. 3. 4. 1. 2. 2.]\n"
     ]
    }
   ],
   "source": [
    "from sklearn import tree\n",
    "clf = tree.DecisionTreeClassifier()\n",
    "clf.fit(X[30:130], Y[30:130])\n",
    "print(clf.score(X[:30], Y[:30]))\n",
    "print(clf.predict(X[:10]))\n",
    "print(Y[:10])"
   ]
  }
 ],
 "metadata": {
  "kernelspec": {
   "display_name": "Python 3.8.8 ('base')",
   "language": "python",
   "name": "python3"
  },
  "language_info": {
   "codemirror_mode": {
    "name": "ipython",
    "version": 3
   },
   "file_extension": ".py",
   "mimetype": "text/x-python",
   "name": "python",
   "nbconvert_exporter": "python",
   "pygments_lexer": "ipython3",
   "version": "3.8.8"
  },
  "orig_nbformat": 4,
  "vscode": {
   "interpreter": {
    "hash": "f0cbc8d39e2c910eff8684fa9a53892924e930afdeb920b71e62694c678fa8d0"
   }
  }
 },
 "nbformat": 4,
 "nbformat_minor": 2
}
