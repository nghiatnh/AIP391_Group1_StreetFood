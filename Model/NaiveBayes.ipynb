{
 "cells": [
  {
   "cell_type": "code",
   "execution_count": 40,
   "metadata": {},
   "outputs": [],
   "source": [
    "import pandas as pd\n",
    "import matplotlib.pyplot as plt\n",
    "import numpy as np\n",
    "import seaborn as sns\n",
    "from sklearn.model_selection import train_test_split\n",
    "from sklearn.metrics import f1_score"
   ]
  },
  {
   "cell_type": "code",
   "execution_count": 41,
   "metadata": {},
   "outputs": [
    {
     "name": "stdout",
     "output_type": "stream",
     "text": [
      "     Unnamed: 0   ID Annotater     video id  Attractive Level (1-5)  \\\n",
      "0             1    1  nghiatnh  5OzrpNCyXqs                     5.0   \n",
      "1             2    2   hoangnd  5OzrpNCyXqs                     5.0   \n",
      "2            11   11      hanl  3qfTtx3yG5U                     4.0   \n",
      "3            15   15  nghiatnh  rSTBg8w7F8I                     3.0   \n",
      "4            16   16      hanl  rSTBg8w7F8I                     3.0   \n",
      "..          ...  ...       ...          ...                     ...   \n",
      "271         828  786     haitm  UVasq9dkass                     2.0   \n",
      "272         833  791     haitm  9eia-UYOTCg                     3.0   \n",
      "273         837  795     haitm  4SB9AHOW7X0                     3.0   \n",
      "274         841  799     haitm  y0E-cGIhcDo                     5.0   \n",
      "275         845  803     haitm  qXNpAaB51U0                     2.0   \n",
      "\n",
      "     Question 2: Sound (1-5)  Question 2.1: Music (1-5)  \\\n",
      "0                        5.0                          4   \n",
      "1                        5.0                          5   \n",
      "2                        3.0                          3   \n",
      "3                        5.0                          5   \n",
      "4                        4.0                          4   \n",
      "..                       ...                        ...   \n",
      "271                      2.0                          1   \n",
      "272                      3.0                          3   \n",
      "273                      3.0                          3   \n",
      "274                      5.0                          5   \n",
      "275                      3.0                          2   \n",
      "\n",
      "     Question 2.2 : Noise control (1-5)  Question 2.3 : Speaking Style (1-5)  \\\n",
      "0                                     5                                    5   \n",
      "1                                     5                                    4   \n",
      "2                                     3                                    4   \n",
      "3                                     4                                    5   \n",
      "4                                     3                                    5   \n",
      "..                                  ...                                  ...   \n",
      "271                                   3                                    3   \n",
      "272                                   4                                    3   \n",
      "273                                   1                                    3   \n",
      "274                                   5                                    5   \n",
      "275                                   4                                    3   \n",
      "\n",
      "     Question 3: Camera (1-5)  ...  Question 4: Images (1-5)  \\\n",
      "0                         5.0  ...                       5.0   \n",
      "1                         5.0  ...                       5.0   \n",
      "2                         4.0  ...                       4.0   \n",
      "3                         2.0  ...                       3.0   \n",
      "4                         3.0  ...                       4.0   \n",
      "..                        ...  ...                       ...   \n",
      "271                       3.0  ...                       2.0   \n",
      "272                       3.0  ...                       4.0   \n",
      "273                       3.0  ...                       4.0   \n",
      "274                       5.0  ...                       5.0   \n",
      "275                       3.0  ...                       4.0   \n",
      "\n",
      "     Question 4.1: Resolution (1-5)  Question 4.2: Color (1-5)  \\\n",
      "0                                 5                          5   \n",
      "1                                 5                          5   \n",
      "2                                 4                          4   \n",
      "3                                 3                          3   \n",
      "4                                 4                          3   \n",
      "..                              ...                        ...   \n",
      "271                               3                          2   \n",
      "272                               5                          3   \n",
      "273                               5                          4   \n",
      "274                               5                          5   \n",
      "275                               4                          2   \n",
      "\n",
      "     Question 5: Content (1-5)  Question 5.1: Introduction (0-1)  \\\n",
      "0                            5                                 1   \n",
      "1                            5                                 1   \n",
      "2                            4                                 1   \n",
      "3                            1                                 0   \n",
      "4                            3                                 0   \n",
      "..                         ...                               ...   \n",
      "271                          3                                 1   \n",
      "272                          3                                 1   \n",
      "273                          4                                 1   \n",
      "274                          5                                 1   \n",
      "275                          3                                 1   \n",
      "\n",
      "     Question 5.2: Food description (0-1)  Question 6: Reviewer (1-5)  \\\n",
      "0                                       1                         5.0   \n",
      "1                                       1                         5.0   \n",
      "2                                       1                         3.0   \n",
      "3                                       0                         2.0   \n",
      "4                                       0                         4.0   \n",
      "..                                    ...                         ...   \n",
      "271                                     0                         3.0   \n",
      "272                                     1                         4.0   \n",
      "273                                     1                         4.0   \n",
      "274                                     1                         4.0   \n",
      "275                                     1                         3.0   \n",
      "\n",
      "     Question 6.1: Reviewer emotion is negative - neutral - positive (1-3)  \\\n",
      "0                                                    3                       \n",
      "1                                                    3                       \n",
      "2                                                    2                       \n",
      "3                                                    2                       \n",
      "4                                                    3                       \n",
      "..                                                 ...                       \n",
      "271                                                  2                       \n",
      "272                                                  3                       \n",
      "273                                                  2                       \n",
      "274                                                  3                       \n",
      "275                                                  2                       \n",
      "\n",
      "     Question 6.2: Recommendation (0-1)  Question 6.3: Clear information (0-1)  \n",
      "0                                     0                                      1  \n",
      "1                                     0                                      1  \n",
      "2                                     0                                      1  \n",
      "3                                     0                                      0  \n",
      "4                                     0                                      1  \n",
      "..                                  ...                                    ...  \n",
      "271                                   0                                      0  \n",
      "272                                   0                                      1  \n",
      "273                                   0                                      1  \n",
      "274                                   0                                      1  \n",
      "275                                   0                                      0  \n",
      "\n",
      "[276 rows x 22 columns]\n"
     ]
    }
   ],
   "source": [
    "pf = pd.read_csv('../Data/mean_data.csv')\n",
    "print(pf)"
   ]
  },
  {
   "cell_type": "code",
   "execution_count": 42,
   "metadata": {},
   "outputs": [
    {
     "data": {
      "text/plain": [
       "<AxesSubplot:xlabel='Attractive Level (1-5)', ylabel='Count'>"
      ]
     },
     "execution_count": 42,
     "metadata": {},
     "output_type": "execute_result"
    },
    {
     "data": {
      "image/png": "[encoded data removed]",
      "text/plain": [
       "<Figure size 432x288 with 1 Axes>"
      ]
     },
     "metadata": {
      "needs_background": "light"
     },
     "output_type": "display_data"
    }
   ],
   "source": [
    "sns.histplot(pf['Attractive Level (1-5)'], bins=[0.5,1.5,2.5,3.5,4.5,5.5])"
   ]
  },
  {
   "cell_type": "code",
   "execution_count": 43,
   "metadata": {},
   "outputs": [],
   "source": [
    "# for x in pf.columns:\n",
    "#     try:\n",
    "#         plt.plot(pf[x],pf[\"Attractive Level (1-5)\"], 'ro')\n",
    "#         plt.show()\n",
    "#     except:\n",
    "#         pass"
   ]
  },
  {
   "cell_type": "code",
   "execution_count": 44,
   "metadata": {},
   "outputs": [],
   "source": [
    "columns = [\n",
    "       'Question 2: Sound (1-5)', 'Question 2.1: Music (1-5)',\n",
    "       'Question 2.2 : Noise control (1-5)',\n",
    "       'Question 2.3 : Speaking Style (1-5)', 'Question 3: Camera (1-5)',\n",
    "       'Question 3.1: Stable (1-5)', 'Question 3.2: Angel diversity (0-1)',\n",
    "       'Question 4: Images (1-5)', 'Question 4.1: Resolution (1-5)',\n",
    "       'Question 4.2: Color (1-5)', 'Question 5: Content (1-5)',\n",
    "       'Question 5.1: Introduction (0-1)',\n",
    "       'Question 5.2: Food description (0-1)', 'Question 6: Reviewer (1-5)',\n",
    "       'Question 6.1: Reviewer emotion is negative - neutral - positive (1-3)',\n",
    "       'Question 6.2: Recommendation (0-1)',\n",
    "       'Question 6.3: Clear information (0-1)']\n",
    "core_columns = [\n",
    "       'Question 2: Sound (1-5)','Question 3: Camera (1-5)',\n",
    "       'Question 4: Images (1-5)', 'Question 5: Content (1-5)',\n",
    "       'Question 6: Reviewer (1-5)',]\n",
    "output_column = 'Attractive Level (1-5)'"
   ]
  },
  {
   "cell_type": "code",
   "execution_count": 45,
   "metadata": {},
   "outputs": [
    {
     "name": "stdout",
     "output_type": "stream",
     "text": [
      "(220, 17)\n",
      "(56, 17)\n"
     ]
    }
   ],
   "source": [
    "X_train, X_test, y_train, y_test = train_test_split(pf[columns][:], pf[output_column][:], test_size=0.2, shuffle=False)\n",
    "print(X_train.shape)\n",
    "print(X_test.shape)"
   ]
  },
  {
   "cell_type": "code",
   "execution_count": 46,
   "metadata": {},
   "outputs": [
    {
     "name": "stdout",
     "output_type": "stream",
     "text": [
      "Decision tree:\n",
      "train accuracy:  0.759090909090909\n",
      "test accuracy:  0.6607142857142857\n"
     ]
    }
   ],
   "source": [
    "from sklearn import tree\n",
    "clf = tree.DecisionTreeClassifier(max_depth = 5)\n",
    "clf.fit(X_train, y_train)\n",
    "print('Decision tree:')\n",
    "print('train accuracy: ',clf.score(X_train, y_train))\n",
    "print('test accuracy: ',clf.score(X_test, y_test))"
   ]
  },
  {
   "cell_type": "code",
   "execution_count": 47,
   "metadata": {},
   "outputs": [
    {
     "name": "stdout",
     "output_type": "stream",
     "text": [
      "Softmax Regression:\n",
      "train accuracy:  0.7681818181818182\n",
      "test accuracy:  0.8035714285714286\n"
     ]
    }
   ],
   "source": [
    "from sklearn.linear_model import LogisticRegression\n",
    "\n",
    "clf = LogisticRegression(C=1, solver=\"lbfgs\", multi_class = 'multinomial', max_iter=1e4)\n",
    "clf.fit(X_train, y_train)\n",
    "print('Softmax Regression:')\n",
    "\n",
    "print('train accuracy: ',clf.score(X_train, y_train))\n",
    "print('test accuracy: ',clf.score(X_test, y_test))"
   ]
  },
  {
   "cell_type": "code",
   "execution_count": 48,
   "metadata": {},
   "outputs": [
    {
     "name": "stdout",
     "output_type": "stream",
     "text": [
      "Multilayer Perceptron:\n",
      "train accuracy:  0.7772727272727272\n",
      "test accuracy:  0.5535714285714286\n"
     ]
    },
    {
     "name": "stderr",
     "output_type": "stream",
     "text": [
      "/home/nghiatnh/anaconda3/lib/python3.8/site-packages/sklearn/neural_network/_multilayer_perceptron.py:614: ConvergenceWarning: Stochastic Optimizer: Maximum iterations (300) reached and the optimization hasn't converged yet.\n",
      "  warnings.warn(\n"
     ]
    }
   ],
   "source": [
    "from sklearn.neural_network import MLPClassifier\n",
    "clf = MLPClassifier(random_state=1, max_iter=300, hidden_layer_sizes=(100,))\n",
    "clf.fit(X_train, y_train)\n",
    "print('Multilayer Perceptron:')\n",
    "\n",
    "print('train accuracy: ',clf.score(X_train, y_train))\n",
    "print('test accuracy: ',clf.score(X_test, y_test))"
   ]
  },
  {
   "cell_type": "code",
   "execution_count": 49,
   "metadata": {},
   "outputs": [
    {
     "name": "stdout",
     "output_type": "stream",
     "text": [
      "Support Vector Machine:\n",
      "train accuracy:  0.7454545454545455\n",
      "test accuracy:  0.8392857142857143\n"
     ]
    }
   ],
   "source": [
    "from sklearn.svm import SVC\n",
    "clf = SVC(C=1)\n",
    "clf.fit(X_train, y_train)\n",
    "print('Support Vector Machine:')\n",
    "\n",
    "print('train accuracy: ',clf.score(X_train, y_train))\n",
    "print('test accuracy: ',clf.score(X_test, y_test))\n"
   ]
  },
  {
   "cell_type": "code",
   "execution_count": 50,
   "metadata": {},
   "outputs": [],
   "source": [
    "def DC():\n",
    "    clf = tree.DecisionTreeClassifier(max_depth = 5)\n",
    "    clf.fit(X_train, y_train)\n",
    "    return (clf.score(X_train, y_train), clf.score(X_test, y_test))\n",
    "\n",
    "def SR():\n",
    "    clf = LogisticRegression(C=1, solver=\"lbfgs\", multi_class = 'multinomial', max_iter=1000)\n",
    "    clf.fit(X_train, y_train)\n",
    "    return (clf.score(X_train, y_train), clf.score(X_test, y_test))\n",
    "\n",
    "def MLP():\n",
    "    clf = MLPClassifier(random_state=1, max_iter=10000, hidden_layer_sizes=(100,))\n",
    "    clf.fit(X_train, y_train)\n",
    "    return (clf.score(X_train, y_train), clf.score(X_test, y_test))\n",
    "\n",
    "def SVM():\n",
    "    clf = SVC(C=1)\n",
    "    clf.fit(X_train, y_train)\n",
    "    return (clf.score(X_train, y_train), clf.score(X_test, y_test))"
   ]
  },
  {
   "cell_type": "code",
   "execution_count": 51,
   "metadata": {},
   "outputs": [
    {
     "name": "stderr",
     "output_type": "stream",
     "text": [
      "/home/nghiatnh/anaconda3/lib/python3.8/site-packages/sklearn/linear_model/_logistic.py:763: ConvergenceWarning: lbfgs failed to converge (status=1):\n",
      "STOP: TOTAL NO. of ITERATIONS REACHED LIMIT.\n",
      "\n",
      "Increase the number of iterations (max_iter) or scale the data as shown in:\n",
      "    https://scikit-learn.org/stable/modules/preprocessing.html\n",
      "Please also refer to the documentation for alternative solver options:\n",
      "    https://scikit-learn.org/stable/modules/linear_model.html#logistic-regression\n",
      "  n_iter_i = _check_optimize_result(\n",
      "/home/nghiatnh/anaconda3/lib/python3.8/site-packages/sklearn/linear_model/_logistic.py:763: ConvergenceWarning: lbfgs failed to converge (status=1):\n",
      "STOP: TOTAL NO. of ITERATIONS REACHED LIMIT.\n",
      "\n",
      "Increase the number of iterations (max_iter) or scale the data as shown in:\n",
      "    https://scikit-learn.org/stable/modules/preprocessing.html\n",
      "Please also refer to the documentation for alternative solver options:\n",
      "    https://scikit-learn.org/stable/modules/linear_model.html#logistic-regression\n",
      "  n_iter_i = _check_optimize_result(\n",
      "/home/nghiatnh/anaconda3/lib/python3.8/site-packages/sklearn/linear_model/_logistic.py:763: ConvergenceWarning: lbfgs failed to converge (status=1):\n",
      "STOP: TOTAL NO. of ITERATIONS REACHED LIMIT.\n",
      "\n",
      "Increase the number of iterations (max_iter) or scale the data as shown in:\n",
      "    https://scikit-learn.org/stable/modules/preprocessing.html\n",
      "Please also refer to the documentation for alternative solver options:\n",
      "    https://scikit-learn.org/stable/modules/linear_model.html#logistic-regression\n",
      "  n_iter_i = _check_optimize_result(\n"
     ]
    },
    {
     "name": "stdout",
     "output_type": "stream",
     "text": [
      "Decision Tree - Softmax Regression - Multilayer Perceptron - Support Vector Machine\n",
      "train:  [0.81318182 0.80727273 0.82727273 0.76318182]\n",
      "test:  [0.61785714 0.68035714 0.62857143 0.68928571]\n"
     ]
    }
   ],
   "source": [
    "N = 10\n",
    "ls_train = []\n",
    "ls_test = []\n",
    "for i in range(N):\n",
    "    X_train, X_test, y_train, y_test = train_test_split(pf[columns][:], pf[output_column][:], test_size=0.2, shuffle=True)\n",
    "    D = [DC(), SR(), MLP(), SVM()]\n",
    "    ls_train.append([x[0] for x in D])\n",
    "    ls_test.append([x[1] for x in D])\n",
    "print('Decision Tree - Softmax Regression - Multilayer Perceptron - Support Vector Machine')\n",
    "print('train accuracy: ', np.mean(ls_train, axis=0))\n",
    "print('test accuracy: ', np.mean(ls_test, axis=0))"
   ]
  }
 ],
 "metadata": {
  "kernelspec": {
   "display_name": "Python 3.8.8 ('base')",
   "language": "python",
   "name": "python3"
  },
  "language_info": {
   "codemirror_mode": {
    "name": "ipython",
    "version": 3
   },
   "file_extension": ".py",
   "mimetype": "text/x-python",
   "name": "python",
   "nbconvert_exporter": "python",
   "pygments_lexer": "ipython3",
   "version": "3.8.8"
  },
  "orig_nbformat": 4,
  "vscode": {
   "interpreter": {
    "hash": "f0cbc8d39e2c910eff8684fa9a53892924e930afdeb920b71e62694c678fa8d0"
   }
  }
 },
 "nbformat": 4,
 "nbformat_minor": 2
}
