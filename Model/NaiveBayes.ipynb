{
 "cells": [
  {
   "cell_type": "code",
   "execution_count": 405,
   "metadata": {},
   "outputs": [],
   "source": [
    "import pandas as pd\n",
    "import matplotlib.pyplot as plt\n",
    "import numpy as np\n",
    "import seaborn as sns\n",
    "from sklearn.model_selection import train_test_split\n",
    "from sklearn.metrics import f1_score"
   ]
  },
  {
   "cell_type": "code",
   "execution_count": 406,
   "metadata": {},
   "outputs": [
    {
     "name": "stdout",
     "output_type": "stream",
     "text": [
      "     Unnamed: 0   ID Annotater     video id  Attractive Level (1-5)  \\\n",
      "0             0  772     haitm  bEV3wlxA_Y0                     3.0   \n",
      "1             0  234    nhanlh  79PQqt5whN0                     2.0   \n",
      "2             0  574     Lamnh  6x9TT-C2Ygs                     4.0   \n",
      "3             0  586     Lamnh  29tXNTWv9_E                     3.0   \n",
      "4             0  651     haitm  ygmhxCyUfBk                     2.0   \n",
      "..          ...  ...       ...          ...                     ...   \n",
      "136           0  120      hanl  Ay8xR5JwgTE                     4.0   \n",
      "137           0  222     baohg  zcJuiziyy-E                     2.0   \n",
      "138           0  761     haitm  qdBhctdpRpo                     3.0   \n",
      "139           0   18      hanl  8yBn-c8__Tk                     2.0   \n",
      "140           0  479     Lamnh  YFlyMu0kFiY                     4.0   \n",
      "\n",
      "     Question 2: Sound (1-5)  Question 2.1: Music (1-5)  \\\n",
      "0                        3.0                          3   \n",
      "1                        3.0                          1   \n",
      "2                        4.0                          4   \n",
      "3                        3.0                          2   \n",
      "4                        3.0                          2   \n",
      "..                       ...                        ...   \n",
      "136                      4.0                          4   \n",
      "137                      2.0                          5   \n",
      "138                      2.0                          1   \n",
      "139                      2.0                          1   \n",
      "140                      4.0                          4   \n",
      "\n",
      "     Question 2.2 : Noise control (1-5)  Question 2.3 : Speaking Style (1-5)  \\\n",
      "0                                     2                                    3   \n",
      "1                                     3                                    5   \n",
      "2                                     3                                    5   \n",
      "3                                     2                                    3   \n",
      "4                                     2                                    2   \n",
      "..                                  ...                                  ...   \n",
      "136                                   4                                    3   \n",
      "137                                   2                                    4   \n",
      "138                                   2                                    3   \n",
      "139                                   1                                    3   \n",
      "140                                   4                                    5   \n",
      "\n",
      "     Question 3: Camera (1-5)  ...  Question 4: Images (1-5)  \\\n",
      "0                         3.0  ...                       3.0   \n",
      "1                         3.0  ...                       4.0   \n",
      "2                         5.0  ...                       4.0   \n",
      "3                         3.0  ...                       3.0   \n",
      "4                         2.0  ...                       3.0   \n",
      "..                        ...  ...                       ...   \n",
      "136                       4.0  ...                       4.0   \n",
      "137                       3.0  ...                       6.0   \n",
      "138                       3.0  ...                       3.0   \n",
      "139                       2.0  ...                       2.0   \n",
      "140                       5.0  ...                       4.0   \n",
      "\n",
      "     Question 4.1: Resolution (1-5)  Question 4.2: Color (1-5)  \\\n",
      "0                                 4                          3   \n",
      "1                                 4                          4   \n",
      "2                                 4                          5   \n",
      "3                                 4                          2   \n",
      "4                                 4                          2   \n",
      "..                              ...                        ...   \n",
      "136                               4                          3   \n",
      "137                               4                          4   \n",
      "138                               4                          2   \n",
      "139                               4                          1   \n",
      "140                               4                          4   \n",
      "\n",
      "     Question 5: Content (1-5)  Question 5.1: Introduction (0-1)  \\\n",
      "0                            4                                 0   \n",
      "1                            3                                 0   \n",
      "2                            3                                 1   \n",
      "3                            3                                 1   \n",
      "4                            3                                 0   \n",
      "..                         ...                               ...   \n",
      "136                          2                                 1   \n",
      "137                          3                                 1   \n",
      "138                          3                                 1   \n",
      "139                          1                                 0   \n",
      "140                          3                                 1   \n",
      "\n",
      "     Question 5.2: Food description (0-1)  Question 6: Reviewer (1-5)  \\\n",
      "0                                       1                         3.0   \n",
      "1                                       1                         4.0   \n",
      "2                                       0                         4.0   \n",
      "3                                       0                         3.0   \n",
      "4                                       1                         3.0   \n",
      "..                                    ...                         ...   \n",
      "136                                     1                         4.0   \n",
      "137                                     1                         3.0   \n",
      "138                                     1                         4.0   \n",
      "139                                     0                         1.0   \n",
      "140                                     0                         4.0   \n",
      "\n",
      "     Question 6.1: Reviewer emotion is negative - neutral - positive (1-3)  \\\n",
      "0                                                    2                       \n",
      "1                                                    2                       \n",
      "2                                                    3                       \n",
      "3                                                    2                       \n",
      "4                                                    3                       \n",
      "..                                                 ...                       \n",
      "136                                                  3                       \n",
      "137                                                  3                       \n",
      "138                                                  3                       \n",
      "139                                                  2                       \n",
      "140                                                  3                       \n",
      "\n",
      "     Question 6.2: Recommendation (0-1)  Question 6.3: Clear information (0-1)  \n",
      "0                                     0                                      1  \n",
      "1                                     0                                      0  \n",
      "2                                     1                                      1  \n",
      "3                                     0                                      1  \n",
      "4                                     0                                      0  \n",
      "..                                  ...                                    ...  \n",
      "136                                   1                                      1  \n",
      "137                                   0                                      0  \n",
      "138                                   0                                      0  \n",
      "139                                   0                                      0  \n",
      "140                                   0                                      0  \n",
      "\n",
      "[141 rows x 22 columns]\n"
     ]
    }
   ],
   "source": [
    "pf = pd.read_csv('../Data/moded_data.csv')\n",
    "print(pf)"
   ]
  },
  {
   "cell_type": "code",
   "execution_count": 407,
   "metadata": {},
   "outputs": [
    {
     "data": {
      "text/plain": [
       "<AxesSubplot:xlabel='Attractive Level (1-5)', ylabel='Count'>"
      ]
     },
     "execution_count": 407,
     "metadata": {},
     "output_type": "execute_result"
    },
    {
     "data": {
      "image/png": "[encoded data removed]",
      "text/plain": [
       "<Figure size 432x288 with 1 Axes>"
      ]
     },
     "metadata": {
      "needs_background": "light"
     },
     "output_type": "display_data"
    }
   ],
   "source": [
    "sns.histplot(pf['Attractive Level (1-5)'], bins=[0.5,1.5,2.5,3.5,4.5,5.5])"
   ]
  },
  {
   "cell_type": "code",
   "execution_count": 408,
   "metadata": {},
   "outputs": [],
   "source": [
    "# for x in pf.columns:\n",
    "#     try:\n",
    "#         plt.plot(pf[x],pf[\"Attractive Level (1-5)\"], 'ro')\n",
    "#         plt.show()\n",
    "#     except:\n",
    "#         pass"
   ]
  },
  {
   "cell_type": "code",
   "execution_count": 409,
   "metadata": {},
   "outputs": [],
   "source": [
    "columns = [\n",
    "       'Question 2: Sound (1-5)', 'Question 2.1: Music (1-5)',\n",
    "       'Question 2.2 : Noise control (1-5)',\n",
    "       'Question 2.3 : Speaking Style (1-5)', 'Question 3: Camera (1-5)',\n",
    "       'Question 3.1: Stable (1-5)', 'Question 3.2: Angel diversity (0-1)',\n",
    "       'Question 4: Images (1-5)', 'Question 4.1: Resolution (1-5)',\n",
    "       'Question 4.2: Color (1-5)', 'Question 5: Content (1-5)',\n",
    "       'Question 5.1: Introduction (0-1)',\n",
    "       'Question 5.2: Food description (0-1)', 'Question 6: Reviewer (1-5)',\n",
    "       'Question 6.1: Reviewer emotion is negative - neutral - positive (1-3)',\n",
    "       'Question 6.2: Recommendation (0-1)',\n",
    "       'Question 6.3: Clear information (0-1)']\n",
    "core_columns = [\n",
    "       'Question 2: Sound (1-5)','Question 3: Camera (1-5)',\n",
    "       'Question 4: Images (1-5)', 'Question 5: Content (1-5)',\n",
    "       'Question 6: Reviewer (1-5)',]\n",
    "output_column = 'Attractive Level (1-5)'"
   ]
  },
  {
   "cell_type": "code",
   "execution_count": 410,
   "metadata": {},
   "outputs": [
    {
     "name": "stdout",
     "output_type": "stream",
     "text": [
      "(112, 17)\n",
      "(29, 17)\n"
     ]
    }
   ],
   "source": [
    "X_train, X_test, y_train, y_test = train_test_split(pf[columns][:], pf[output_column][:], test_size=0.2, shuffle=True)\n",
    "print(X_train.shape)\n",
    "print(X_test.shape)"
   ]
  },
  {
   "cell_type": "code",
   "execution_count": 411,
   "metadata": {},
   "outputs": [
    {
     "name": "stdout",
     "output_type": "stream",
     "text": [
      "Decision tree:\n",
      "train accuracy:  0.875\n",
      "test accuracy:  0.5862068965517241\n"
     ]
    }
   ],
   "source": [
    "from sklearn import tree\n",
    "clf = tree.DecisionTreeClassifier(max_depth = 5)\n",
    "clf.fit(X_train, y_train)\n",
    "print('Decision tree:')\n",
    "print('train accuracy: ',clf.score(X_train, y_train))\n",
    "print('test accuracy: ',clf.score(X_test, y_test))"
   ]
  },
  {
   "cell_type": "code",
   "execution_count": 412,
   "metadata": {},
   "outputs": [
    {
     "name": "stdout",
     "output_type": "stream",
     "text": [
      "Softmax Regression:\n",
      "train accuracy:  0.8392857142857143\n",
      "test accuracy:  0.6206896551724138\n"
     ]
    }
   ],
   "source": [
    "from sklearn.linear_model import LogisticRegression\n",
    "\n",
    "clf = LogisticRegression(C=1, solver=\"lbfgs\", multi_class = 'multinomial', max_iter=1e4)\n",
    "clf.fit(X_train, y_train)\n",
    "print('Softmax Regression:')\n",
    "\n",
    "print('train accuracy: ',clf.score(X_train, y_train))\n",
    "print('test accuracy: ',clf.score(X_test, y_test))"
   ]
  },
  {
   "cell_type": "code",
   "execution_count": 413,
   "metadata": {},
   "outputs": [
    {
     "name": "stdout",
     "output_type": "stream",
     "text": [
      "Linear Regression:\n",
      "train accuracy:  0.6964285714285714\n",
      "test accuracy:  0.6896551724137931\n"
     ]
    },
    {
     "data": {
      "image/png": "[encoded data removed]",
      "text/plain": [
       "<Figure size 432x288 with 1 Axes>"
      ]
     },
     "metadata": {
      "needs_background": "light"
     },
     "output_type": "display_data"
    }
   ],
   "source": [
    "from sklearn.linear_model import LinearRegression\n",
    "\n",
    "clf = LinearRegression()\n",
    "clf.fit(X_train, y_train)\n",
    "print('Linear Regression:')\n",
    "result = clf.predict(X_train).round()\n",
    "plt.plot(result, y_train, 'ro')\n",
    "plt.plot([0,6],[0,6], 'b-')\n",
    "TF = result == y_train\n",
    "score = len(TF[TF == True]) / len(TF)\n",
    "\n",
    "print('train accuracy: ', score)\n",
    "\n",
    "result = clf.predict(X_test).round()\n",
    "TF = result == y_test\n",
    "score = len(TF[TF == True]) / len(TF)\n",
    "print('test accuracy: ', score)"
   ]
  },
  {
   "cell_type": "code",
   "execution_count": 414,
   "metadata": {},
   "outputs": [
    {
     "name": "stdout",
     "output_type": "stream",
     "text": [
      "Multilayer Perceptron:\n",
      "train accuracy:  0.9464285714285714\n",
      "test accuracy:  0.4482758620689655\n"
     ]
    },
    {
     "name": "stderr",
     "output_type": "stream",
     "text": [
      "/home/nghiatnh/anaconda3/lib/python3.8/site-packages/sklearn/neural_network/_multilayer_perceptron.py:614: ConvergenceWarning: Stochastic Optimizer: Maximum iterations (300) reached and the optimization hasn't converged yet.\n",
      "  warnings.warn(\n"
     ]
    }
   ],
   "source": [
    "from sklearn.neural_network import MLPClassifier\n",
    "clf = MLPClassifier(random_state=1, max_iter=300, hidden_layer_sizes=(100,))\n",
    "clf.fit(X_train, y_train)\n",
    "print('Multilayer Perceptron:')\n",
    "\n",
    "print('train accuracy: ',clf.score(X_train, y_train))\n",
    "print('test accuracy: ',clf.score(X_test, y_test))"
   ]
  },
  {
   "cell_type": "code",
   "execution_count": 415,
   "metadata": {},
   "outputs": [
    {
     "name": "stdout",
     "output_type": "stream",
     "text": [
      "Support Vector Machine:\n",
      "train accuracy:  0.7767857142857143\n",
      "test accuracy:  0.7241379310344828\n"
     ]
    }
   ],
   "source": [
    "from sklearn.svm import SVC\n",
    "clf = SVC(C=1)\n",
    "clf.fit(X_train, y_train)\n",
    "print('Support Vector Machine:')\n",
    "\n",
    "print('train accuracy: ',clf.score(X_train, y_train))\n",
    "print('test accuracy: ',clf.score(X_test, y_test))\n"
   ]
  },
  {
   "cell_type": "code",
   "execution_count": 416,
   "metadata": {},
   "outputs": [
    {
     "name": "stdout",
     "output_type": "stream",
     "text": [
      "KNN\n",
      "train accuracy:  0.7410714285714286\n",
      "test accuracy:  0.6551724137931034\n"
     ]
    },
    {
     "name": "stderr",
     "output_type": "stream",
     "text": [
      "/home/nghiatnh/anaconda3/lib/python3.8/site-packages/sklearn/neighbors/_classification.py:211: FutureWarning: Unlike other reduction functions (e.g. `skew`, `kurtosis`), the default behavior of `mode` typically preserves the axis it acts along. In SciPy 1.11.0, this behavior will change: the default value of `keepdims` will become False, the `axis` over which the statistic is taken will be eliminated, and the value None will no longer be accepted. Set `keepdims` to True or False to avoid this warning.\n",
      "  mode, _ = stats.mode(_y[neigh_ind, k], axis=1)\n",
      "/home/nghiatnh/anaconda3/lib/python3.8/site-packages/sklearn/neighbors/_classification.py:211: FutureWarning: Unlike other reduction functions (e.g. `skew`, `kurtosis`), the default behavior of `mode` typically preserves the axis it acts along. In SciPy 1.11.0, this behavior will change: the default value of `keepdims` will become False, the `axis` over which the statistic is taken will be eliminated, and the value None will no longer be accepted. Set `keepdims` to True or False to avoid this warning.\n",
      "  mode, _ = stats.mode(_y[neigh_ind, k], axis=1)\n"
     ]
    }
   ],
   "source": [
    "from sklearn.neighbors import KNeighborsClassifier\n",
    "clf = KNeighborsClassifier(n_neighbors=5)\n",
    "clf.fit(X_train, y_train)\n",
    "print('KNN')\n",
    "\n",
    "print('train accuracy: ',clf.score(X_train, y_train))\n",
    "print('test accuracy: ',clf.score(X_test, y_test))"
   ]
  },
  {
   "cell_type": "code",
   "execution_count": 417,
   "metadata": {},
   "outputs": [],
   "source": [
    "def DC():\n",
    "    clf = tree.DecisionTreeClassifier(max_depth = 5)\n",
    "    clf.fit(X_train, y_train)\n",
    "    return (clf.score(X_train, y_train), clf.score(X_test, y_test))\n",
    "\n",
    "def SR():\n",
    "    clf = LogisticRegression(C=1, solver=\"lbfgs\", multi_class = 'multinomial', max_iter=1000)\n",
    "    clf.fit(X_train, y_train)\n",
    "    return (clf.score(X_train, y_train), clf.score(X_test, y_test))\n",
    "\n",
    "def MLP():\n",
    "    clf = MLPClassifier(random_state=1, max_iter=10000, hidden_layer_sizes=(100,))\n",
    "    clf.fit(X_train, y_train)\n",
    "    return (clf.score(X_train, y_train), clf.score(X_test, y_test))\n",
    "\n",
    "def SVM():\n",
    "    clf = SVC(C=1)\n",
    "    clf.fit(X_train, y_train)\n",
    "    return (clf.score(X_train, y_train), clf.score(X_test, y_test))"
   ]
  },
  {
   "cell_type": "code",
   "execution_count": 418,
   "metadata": {},
   "outputs": [],
   "source": [
    "# N = 10\n",
    "# ls_train = []\n",
    "# ls_test = []\n",
    "# for i in range(N):\n",
    "#     X_train, X_test, y_train, y_test = train_test_split(pf[columns][:], pf[output_column][:], test_size=0.2, shuffle=True)\n",
    "#     D = [DC(), SR(), MLP(), SVM()]\n",
    "#     ls_train.append([x[0] for x in D])\n",
    "#     ls_test.append([x[1] for x in D])\n",
    "# print('Decision Tree - Softmax Regression - Multilayer Perceptron - Support Vector Machine')\n",
    "# print('train accuracy: ', np.mean(ls_train, axis=0))\n",
    "# print('test accuracy: ', np.mean(ls_test, axis=0))"
   ]
  }
 ],
 "metadata": {
  "kernelspec": {
   "display_name": "Python 3.8.8 ('base')",
   "language": "python",
   "name": "python3"
  },
  "language_info": {
   "codemirror_mode": {
    "name": "ipython",
    "version": 3
   },
   "file_extension": ".py",
   "mimetype": "text/x-python",
   "name": "python",
   "nbconvert_exporter": "python",
   "pygments_lexer": "ipython3",
   "version": "3.8.8"
  },
  "orig_nbformat": 4,
  "vscode": {
   "interpreter": {
    "hash": "f0cbc8d39e2c910eff8684fa9a53892924e930afdeb920b71e62694c678fa8d0"
   }
  }
 },
 "nbformat": 4,
 "nbformat_minor": 2
}
