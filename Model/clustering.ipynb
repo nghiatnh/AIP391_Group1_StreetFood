{
 "cells": [
  {
   "cell_type": "code",
   "execution_count": 17,
   "metadata": {},
   "outputs": [],
   "source": [
    "from sklearn.cluster import KMeans\n",
    "import pandas as pd"
   ]
  },
  {
   "cell_type": "code",
   "execution_count": 18,
   "metadata": {},
   "outputs": [],
   "source": [
    "columns = [\n",
    "       'Question 2: Sound (1-5)', 'Question 2.1: Music (1-5)',\n",
    "       'Question 2.2 : Noise control (1-5)',\n",
    "       'Question 2.3 : Speaking Style (1-5)', 'Question 3: Camera (1-5)',\n",
    "       'Question 3.1: Stable (1-5)', 'Question 3.2: Angel diversity (0-1)',\n",
    "       'Question 4: Images (1-5)', 'Question 4.1: Resolution (1-5)',\n",
    "       'Question 4.2: Color (1-5)', 'Question 5: Content (1-5)',\n",
    "       'Question 5.1: Introduction (0-1)',\n",
    "       'Question 5.2: Food description (0-1)', 'Question 6: Reviewer (1-5)',\n",
    "       'Question 6.1: Reviewer emotion is negative - neutral - positive (1-3)',\n",
    "       'Question 6.2: Recommendation (0-1)',\n",
    "       'Question 6.3: Clear information (0-1)']\n",
    "core_columns = [\n",
    "       'Question 2: Sound (1-5)','Question 3: Camera (1-5)',\n",
    "       'Question 4: Images (1-5)', 'Question 5: Content (1-5)',\n",
    "       'Question 6: Reviewer (1-5)',]\n",
    "output_column = 'Attractive Level (1-5)'"
   ]
  },
  {
   "cell_type": "code",
   "execution_count": 19,
   "metadata": {},
   "outputs": [],
   "source": [
    "pf = pd.read_csv('../Data/mean_data.csv')"
   ]
  },
  {
   "cell_type": "code",
   "execution_count": 33,
   "metadata": {},
   "outputs": [
    {
     "name": "stderr",
     "output_type": "stream",
     "text": [
      "Exception ignored on calling ctypes callback function: <function _ThreadpoolInfo._find_modules_with_dl_iterate_phdr.<locals>.match_module_callback at 0x7f555db0fee0>\n",
      "Traceback (most recent call last):\n",
      "  File \"/home/nghiatnh/anaconda3/lib/python3.8/site-packages/threadpoolctl.py\", line 400, in match_module_callback\n",
      "    self._make_module_from_path(filepath)\n",
      "  File \"/home/nghiatnh/anaconda3/lib/python3.8/site-packages/threadpoolctl.py\", line 515, in _make_module_from_path\n",
      "    module = module_class(filepath, prefix, user_api, internal_api)\n",
      "  File \"/home/nghiatnh/anaconda3/lib/python3.8/site-packages/threadpoolctl.py\", line 606, in __init__\n",
      "    self.version = self.get_version()\n",
      "  File \"/home/nghiatnh/anaconda3/lib/python3.8/site-packages/threadpoolctl.py\", line 646, in get_version\n",
      "    config = get_config().split()\n",
      "AttributeError: 'NoneType' object has no attribute 'split'\n",
      "Exception ignored on calling ctypes callback function: <function _ThreadpoolInfo._find_modules_with_dl_iterate_phdr.<locals>.match_module_callback at 0x7f5526d51c10>\n",
      "Traceback (most recent call last):\n",
      "  File \"/home/nghiatnh/anaconda3/lib/python3.8/site-packages/threadpoolctl.py\", line 400, in match_module_callback\n",
      "    self._make_module_from_path(filepath)\n",
      "  File \"/home/nghiatnh/anaconda3/lib/python3.8/site-packages/threadpoolctl.py\", line 515, in _make_module_from_path\n",
      "    module = module_class(filepath, prefix, user_api, internal_api)\n",
      "  File \"/home/nghiatnh/anaconda3/lib/python3.8/site-packages/threadpoolctl.py\", line 606, in __init__\n",
      "    self.version = self.get_version()\n",
      "  File \"/home/nghiatnh/anaconda3/lib/python3.8/site-packages/threadpoolctl.py\", line 646, in get_version\n",
      "    config = get_config().split()\n",
      "AttributeError: 'NoneType' object has no attribute 'split'\n",
      "Exception ignored on calling ctypes callback function: <function _ThreadpoolInfo._find_modules_with_dl_iterate_phdr.<locals>.match_module_callback at 0x7f5526d51c10>\n",
      "Traceback (most recent call last):\n",
      "  File \"/home/nghiatnh/anaconda3/lib/python3.8/site-packages/threadpoolctl.py\", line 400, in match_module_callback\n",
      "    self._make_module_from_path(filepath)\n",
      "  File \"/home/nghiatnh/anaconda3/lib/python3.8/site-packages/threadpoolctl.py\", line 515, in _make_module_from_path\n",
      "    module = module_class(filepath, prefix, user_api, internal_api)\n",
      "  File \"/home/nghiatnh/anaconda3/lib/python3.8/site-packages/threadpoolctl.py\", line 606, in __init__\n",
      "    self.version = self.get_version()\n",
      "  File \"/home/nghiatnh/anaconda3/lib/python3.8/site-packages/threadpoolctl.py\", line 646, in get_version\n",
      "    config = get_config().split()\n",
      "AttributeError: 'NoneType' object has no attribute 'split'\n",
      "Exception ignored on calling ctypes callback function: <function _ThreadpoolInfo._find_modules_with_dl_iterate_phdr.<locals>.match_module_callback at 0x7f5526d51c10>\n",
      "Traceback (most recent call last):\n",
      "  File \"/home/nghiatnh/anaconda3/lib/python3.8/site-packages/threadpoolctl.py\", line 400, in match_module_callback\n",
      "    self._make_module_from_path(filepath)\n",
      "  File \"/home/nghiatnh/anaconda3/lib/python3.8/site-packages/threadpoolctl.py\", line 515, in _make_module_from_path\n",
      "    module = module_class(filepath, prefix, user_api, internal_api)\n",
      "  File \"/home/nghiatnh/anaconda3/lib/python3.8/site-packages/threadpoolctl.py\", line 606, in __init__\n",
      "    self.version = self.get_version()\n",
      "  File \"/home/nghiatnh/anaconda3/lib/python3.8/site-packages/threadpoolctl.py\", line 646, in get_version\n",
      "    config = get_config().split()\n",
      "AttributeError: 'NoneType' object has no attribute 'split'\n",
      "Exception ignored on calling ctypes callback function: <function _ThreadpoolInfo._find_modules_with_dl_iterate_phdr.<locals>.match_module_callback at 0x7f5526d51c10>\n",
      "Traceback (most recent call last):\n",
      "  File \"/home/nghiatnh/anaconda3/lib/python3.8/site-packages/threadpoolctl.py\", line 400, in match_module_callback\n",
      "    self._make_module_from_path(filepath)\n",
      "  File \"/home/nghiatnh/anaconda3/lib/python3.8/site-packages/threadpoolctl.py\", line 515, in _make_module_from_path\n",
      "    module = module_class(filepath, prefix, user_api, internal_api)\n",
      "  File \"/home/nghiatnh/anaconda3/lib/python3.8/site-packages/threadpoolctl.py\", line 606, in __init__\n",
      "    self.version = self.get_version()\n",
      "  File \"/home/nghiatnh/anaconda3/lib/python3.8/site-packages/threadpoolctl.py\", line 646, in get_version\n",
      "    config = get_config().split()\n",
      "AttributeError: 'NoneType' object has no attribute 'split'\n",
      "Exception ignored on calling ctypes callback function: <function _ThreadpoolInfo._find_modules_with_dl_iterate_phdr.<locals>.match_module_callback at 0x7f5526d51c10>\n",
      "Traceback (most recent call last):\n",
      "  File \"/home/nghiatnh/anaconda3/lib/python3.8/site-packages/threadpoolctl.py\", line 400, in match_module_callback\n",
      "    self._make_module_from_path(filepath)\n",
      "  File \"/home/nghiatnh/anaconda3/lib/python3.8/site-packages/threadpoolctl.py\", line 515, in _make_module_from_path\n",
      "    module = module_class(filepath, prefix, user_api, internal_api)\n",
      "  File \"/home/nghiatnh/anaconda3/lib/python3.8/site-packages/threadpoolctl.py\", line 606, in __init__\n",
      "    self.version = self.get_version()\n",
      "  File \"/home/nghiatnh/anaconda3/lib/python3.8/site-packages/threadpoolctl.py\", line 646, in get_version\n",
      "    config = get_config().split()\n",
      "AttributeError: 'NoneType' object has no attribute 'split'\n",
      "Exception ignored on calling ctypes callback function: <function _ThreadpoolInfo._find_modules_with_dl_iterate_phdr.<locals>.match_module_callback at 0x7f5526d51c10>\n",
      "Traceback (most recent call last):\n",
      "  File \"/home/nghiatnh/anaconda3/lib/python3.8/site-packages/threadpoolctl.py\", line 400, in match_module_callback\n",
      "    self._make_module_from_path(filepath)\n",
      "  File \"/home/nghiatnh/anaconda3/lib/python3.8/site-packages/threadpoolctl.py\", line 515, in _make_module_from_path\n",
      "    module = module_class(filepath, prefix, user_api, internal_api)\n",
      "  File \"/home/nghiatnh/anaconda3/lib/python3.8/site-packages/threadpoolctl.py\", line 606, in __init__\n",
      "    self.version = self.get_version()\n",
      "  File \"/home/nghiatnh/anaconda3/lib/python3.8/site-packages/threadpoolctl.py\", line 646, in get_version\n",
      "    config = get_config().split()\n",
      "AttributeError: 'NoneType' object has no attribute 'split'\n",
      "Exception ignored on calling ctypes callback function: <function _ThreadpoolInfo._find_modules_with_dl_iterate_phdr.<locals>.match_module_callback at 0x7f5526d51c10>\n",
      "Traceback (most recent call last):\n",
      "  File \"/home/nghiatnh/anaconda3/lib/python3.8/site-packages/threadpoolctl.py\", line 400, in match_module_callback\n",
      "    self._make_module_from_path(filepath)\n",
      "  File \"/home/nghiatnh/anaconda3/lib/python3.8/site-packages/threadpoolctl.py\", line 515, in _make_module_from_path\n",
      "    module = module_class(filepath, prefix, user_api, internal_api)\n",
      "  File \"/home/nghiatnh/anaconda3/lib/python3.8/site-packages/threadpoolctl.py\", line 606, in __init__\n",
      "    self.version = self.get_version()\n",
      "  File \"/home/nghiatnh/anaconda3/lib/python3.8/site-packages/threadpoolctl.py\", line 646, in get_version\n",
      "    config = get_config().split()\n",
      "AttributeError: 'NoneType' object has no attribute 'split'\n",
      "Exception ignored on calling ctypes callback function: <function _ThreadpoolInfo._find_modules_with_dl_iterate_phdr.<locals>.match_module_callback at 0x7f5526d51c10>\n",
      "Traceback (most recent call last):\n",
      "  File \"/home/nghiatnh/anaconda3/lib/python3.8/site-packages/threadpoolctl.py\", line 400, in match_module_callback\n",
      "    self._make_module_from_path(filepath)\n",
      "  File \"/home/nghiatnh/anaconda3/lib/python3.8/site-packages/threadpoolctl.py\", line 515, in _make_module_from_path\n",
      "    module = module_class(filepath, prefix, user_api, internal_api)\n",
      "  File \"/home/nghiatnh/anaconda3/lib/python3.8/site-packages/threadpoolctl.py\", line 606, in __init__\n",
      "    self.version = self.get_version()\n",
      "  File \"/home/nghiatnh/anaconda3/lib/python3.8/site-packages/threadpoolctl.py\", line 646, in get_version\n",
      "    config = get_config().split()\n",
      "AttributeError: 'NoneType' object has no attribute 'split'\n",
      "Exception ignored on calling ctypes callback function: <function _ThreadpoolInfo._find_modules_with_dl_iterate_phdr.<locals>.match_module_callback at 0x7f5526d51c10>\n",
      "Traceback (most recent call last):\n",
      "  File \"/home/nghiatnh/anaconda3/lib/python3.8/site-packages/threadpoolctl.py\", line 400, in match_module_callback\n",
      "    self._make_module_from_path(filepath)\n",
      "  File \"/home/nghiatnh/anaconda3/lib/python3.8/site-packages/threadpoolctl.py\", line 515, in _make_module_from_path\n",
      "    module = module_class(filepath, prefix, user_api, internal_api)\n",
      "  File \"/home/nghiatnh/anaconda3/lib/python3.8/site-packages/threadpoolctl.py\", line 606, in __init__\n",
      "    self.version = self.get_version()\n",
      "  File \"/home/nghiatnh/anaconda3/lib/python3.8/site-packages/threadpoolctl.py\", line 646, in get_version\n",
      "    config = get_config().split()\n",
      "AttributeError: 'NoneType' object has no attribute 'split'\n",
      "Exception ignored on calling ctypes callback function: <function _ThreadpoolInfo._find_modules_with_dl_iterate_phdr.<locals>.match_module_callback at 0x7f5526d51c10>\n",
      "Traceback (most recent call last):\n",
      "  File \"/home/nghiatnh/anaconda3/lib/python3.8/site-packages/threadpoolctl.py\", line 400, in match_module_callback\n",
      "    self._make_module_from_path(filepath)\n",
      "  File \"/home/nghiatnh/anaconda3/lib/python3.8/site-packages/threadpoolctl.py\", line 515, in _make_module_from_path\n",
      "    module = module_class(filepath, prefix, user_api, internal_api)\n",
      "  File \"/home/nghiatnh/anaconda3/lib/python3.8/site-packages/threadpoolctl.py\", line 606, in __init__\n",
      "    self.version = self.get_version()\n",
      "  File \"/home/nghiatnh/anaconda3/lib/python3.8/site-packages/threadpoolctl.py\", line 646, in get_version\n",
      "    config = get_config().split()\n",
      "AttributeError: 'NoneType' object has no attribute 'split'\n"
     ]
    },
    {
     "name": "stdout",
     "output_type": "stream",
     "text": [
      "0.9310344827586207\n"
     ]
    }
   ],
   "source": [
    "clf = KMeans(n_clusters=3)\n",
    "clusters = clf.fit_predict(pf[columns])\n",
    "y = pf[output_column].copy()\n",
    "y[y <= 3] = 0\n",
    "y[y > 3] = 1\n",
    "\n",
    "y1 = pf[output_column].copy()\n",
    "y1[clusters == 0] = 0\n",
    "y1[clusters == 1] = 1\n",
    "\n",
    "from sklearn.metrics import f1_score\n",
    "\n",
    "print(f1_score(y, y1, average='binary'))"
   ]
  },
  {
   "cell_type": "code",
   "execution_count": 21,
   "metadata": {},
   "outputs": [
    {
     "data": {
      "text/plain": [
       "array([[2.7012987 , 2.51948052, 2.58441558, 3.19480519, 3.07792208,\n",
       "        3.33766234, 0.71428571, 3.12987013, 3.93506494, 2.8961039 ,\n",
       "        2.79220779, 0.71428571, 0.50649351, 2.75324675, 2.25974026,\n",
       "        0.14285714, 0.63636364],\n",
       "       [4.12068966, 3.93103448, 3.74137931, 4.32758621, 4.4137931 ,\n",
       "        4.4137931 , 1.13793103, 4.24137931, 3.96551724, 4.12068966,\n",
       "        4.20689655, 0.96551724, 0.81034483, 4.0862069 , 2.84482759,\n",
       "        0.63793103, 0.94827586]])"
      ]
     },
     "execution_count": 21,
     "metadata": {},
     "output_type": "execute_result"
    }
   ],
   "source": [
    "clf.cluster_centers_"
   ]
  },
  {
   "cell_type": "code",
   "execution_count": 22,
   "metadata": {},
   "outputs": [
    {
     "data": {
      "text/plain": [
       "Question 2: Sound (1-5)                                                  2.701299\n",
       "Question 2.1: Music (1-5)                                                2.519481\n",
       "Question 2.2 : Noise control (1-5)                                       2.584416\n",
       "Question 2.3 : Speaking Style (1-5)                                      3.194805\n",
       "Question 3: Camera (1-5)                                                 3.077922\n",
       "Question 3.1: Stable (1-5)                                               3.337662\n",
       "Question 3.2: Angel diversity (0-1)                                      0.714286\n",
       "Question 4: Images (1-5)                                                 3.129870\n",
       "Question 4.1: Resolution (1-5)                                           3.935065\n",
       "Question 4.2: Color (1-5)                                                2.896104\n",
       "Question 5: Content (1-5)                                                2.792208\n",
       "Question 5.1: Introduction (0-1)                                         0.714286\n",
       "Question 5.2: Food description (0-1)                                     0.506494\n",
       "Question 6: Reviewer (1-5)                                               2.753247\n",
       "Question 6.1: Reviewer emotion is negative - neutral - positive (1-3)    2.259740\n",
       "Question 6.2: Recommendation (0-1)                                       0.142857\n",
       "Question 6.3: Clear information (0-1)                                    0.636364\n",
       "dtype: float64"
      ]
     },
     "execution_count": 22,
     "metadata": {},
     "output_type": "execute_result"
    }
   ],
   "source": [
    "pf[clusters == 0][columns].mean()"
   ]
  },
  {
   "cell_type": "code",
   "execution_count": 23,
   "metadata": {},
   "outputs": [
    {
     "data": {
      "text/plain": [
       "1      3.0\n",
       "2      3.0\n",
       "4      3.0\n",
       "5      3.0\n",
       "6      3.0\n",
       "      ... \n",
       "128    3.0\n",
       "129    3.0\n",
       "130    2.0\n",
       "131    3.0\n",
       "134    2.0\n",
       "Name: Attractive Level (1-5), Length: 77, dtype: float64"
      ]
     },
     "execution_count": 23,
     "metadata": {},
     "output_type": "execute_result"
    }
   ],
   "source": [
    "pf[clusters == 0][output_column]"
   ]
  },
  {
   "cell_type": "code",
   "execution_count": 24,
   "metadata": {},
   "outputs": [
    {
     "data": {
      "text/plain": [
       "Question 2: Sound (1-5)                                                  4.120690\n",
       "Question 2.1: Music (1-5)                                                3.931034\n",
       "Question 2.2 : Noise control (1-5)                                       3.741379\n",
       "Question 2.3 : Speaking Style (1-5)                                      4.327586\n",
       "Question 3: Camera (1-5)                                                 4.413793\n",
       "Question 3.1: Stable (1-5)                                               4.413793\n",
       "Question 3.2: Angel diversity (0-1)                                      1.137931\n",
       "Question 4: Images (1-5)                                                 4.241379\n",
       "Question 4.1: Resolution (1-5)                                           3.965517\n",
       "Question 4.2: Color (1-5)                                                4.120690\n",
       "Question 5: Content (1-5)                                                4.206897\n",
       "Question 5.1: Introduction (0-1)                                         0.965517\n",
       "Question 5.2: Food description (0-1)                                     0.810345\n",
       "Question 6: Reviewer (1-5)                                               4.086207\n",
       "Question 6.1: Reviewer emotion is negative - neutral - positive (1-3)    2.844828\n",
       "Question 6.2: Recommendation (0-1)                                       0.637931\n",
       "Question 6.3: Clear information (0-1)                                    0.948276\n",
       "dtype: float64"
      ]
     },
     "execution_count": 24,
     "metadata": {},
     "output_type": "execute_result"
    }
   ],
   "source": [
    "pf[clusters == 1][columns].mean()"
   ]
  },
  {
   "cell_type": "code",
   "execution_count": 25,
   "metadata": {},
   "outputs": [
    {
     "data": {
      "text/plain": [
       "0      4.0\n",
       "3      4.0\n",
       "9      5.0\n",
       "10     4.0\n",
       "11     4.0\n",
       "15     5.0\n",
       "23     4.0\n",
       "28     5.0\n",
       "29     5.0\n",
       "30     4.0\n",
       "31     5.0\n",
       "33     5.0\n",
       "34     4.0\n",
       "35     4.0\n",
       "37     4.0\n",
       "38     4.0\n",
       "40     4.0\n",
       "41     4.0\n",
       "42     4.0\n",
       "46     3.0\n",
       "48     5.0\n",
       "51     4.0\n",
       "52     4.0\n",
       "54     4.0\n",
       "55     4.0\n",
       "57     3.0\n",
       "58     4.0\n",
       "59     5.0\n",
       "64     3.0\n",
       "65     4.0\n",
       "66     5.0\n",
       "69     4.0\n",
       "71     4.0\n",
       "72     4.0\n",
       "73     5.0\n",
       "76     4.0\n",
       "82     4.0\n",
       "84     4.0\n",
       "86     4.0\n",
       "89     5.0\n",
       "91     4.0\n",
       "93     5.0\n",
       "94     4.0\n",
       "95     5.0\n",
       "96     5.0\n",
       "98     4.0\n",
       "100    4.0\n",
       "102    4.0\n",
       "103    4.0\n",
       "104    4.0\n",
       "108    4.0\n",
       "109    5.0\n",
       "110    4.0\n",
       "111    4.0\n",
       "117    4.0\n",
       "121    3.0\n",
       "132    4.0\n",
       "133    4.0\n",
       "Name: Attractive Level (1-5), dtype: float64"
      ]
     },
     "execution_count": 25,
     "metadata": {},
     "output_type": "execute_result"
    }
   ],
   "source": [
    "pf[clusters == 1][output_column]"
   ]
  },
  {
   "cell_type": "code",
   "execution_count": 26,
   "metadata": {},
   "outputs": [
    {
     "data": {
      "text/plain": [
       "Question 2: Sound (1-5)                                                 NaN\n",
       "Question 2.1: Music (1-5)                                               NaN\n",
       "Question 2.2 : Noise control (1-5)                                      NaN\n",
       "Question 2.3 : Speaking Style (1-5)                                     NaN\n",
       "Question 3: Camera (1-5)                                                NaN\n",
       "Question 3.1: Stable (1-5)                                              NaN\n",
       "Question 3.2: Angel diversity (0-1)                                     NaN\n",
       "Question 4: Images (1-5)                                                NaN\n",
       "Question 4.1: Resolution (1-5)                                          NaN\n",
       "Question 4.2: Color (1-5)                                               NaN\n",
       "Question 5: Content (1-5)                                               NaN\n",
       "Question 5.1: Introduction (0-1)                                        NaN\n",
       "Question 5.2: Food description (0-1)                                    NaN\n",
       "Question 6: Reviewer (1-5)                                              NaN\n",
       "Question 6.1: Reviewer emotion is negative - neutral - positive (1-3)   NaN\n",
       "Question 6.2: Recommendation (0-1)                                      NaN\n",
       "Question 6.3: Clear information (0-1)                                   NaN\n",
       "dtype: float64"
      ]
     },
     "execution_count": 26,
     "metadata": {},
     "output_type": "execute_result"
    }
   ],
   "source": [
    "pf[clusters == 2][columns].mean()"
   ]
  },
  {
   "cell_type": "code",
   "execution_count": 27,
   "metadata": {},
   "outputs": [
    {
     "data": {
      "text/plain": [
       "Series([], Name: Attractive Level (1-5), dtype: float64)"
      ]
     },
     "execution_count": 27,
     "metadata": {},
     "output_type": "execute_result"
    }
   ],
   "source": [
    "pf[clusters == 2][output_column]"
   ]
  }
 ],
 "metadata": {
  "kernelspec": {
   "display_name": "Python 3.8.8 ('base')",
   "language": "python",
   "name": "python3"
  },
  "language_info": {
   "codemirror_mode": {
    "name": "ipython",
    "version": 3
   },
   "file_extension": ".py",
   "mimetype": "text/x-python",
   "name": "python",
   "nbconvert_exporter": "python",
   "pygments_lexer": "ipython3",
   "version": "3.8.8"
  },
  "orig_nbformat": 4,
  "vscode": {
   "interpreter": {
    "hash": "f0cbc8d39e2c910eff8684fa9a53892924e930afdeb920b71e62694c678fa8d0"
   }
  }
 },
 "nbformat": 4,
 "nbformat_minor": 2
}
