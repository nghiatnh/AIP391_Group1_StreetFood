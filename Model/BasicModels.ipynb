{
 "cells": [
  {
   "cell_type": "code",
   "execution_count": 71,
   "metadata": {},
   "outputs": [],
   "source": [
    "import pandas as pd\n",
    "import matplotlib.pyplot as plt\n",
    "import numpy as np\n",
    "import seaborn as sns\n",
    "from sklearn.model_selection import train_test_split\n",
    "from sklearn.metrics import f1_score"
   ]
  },
  {
   "cell_type": "code",
   "execution_count": 72,
   "metadata": {},
   "outputs": [
    {
     "name": "stdout",
     "output_type": "stream",
     "text": [
      "     Unnamed: 0     video id  Question 2: Sound (1-5)  \\\n",
      "0             0  iljkdsw4JfA                      5.0   \n",
      "1             1  GL3mfWvsF24                      5.0   \n",
      "2             2  zHq4pNRskxw                      5.0   \n",
      "3             3  B1zTL3RLlkg                      3.0   \n",
      "4             4  kgo6wyMpCvI                      3.0   \n",
      "..          ...          ...                      ...   \n",
      "136         136  N3TS4OWrfpE                      4.0   \n",
      "137         137  mSDRsSLbN0I                      2.0   \n",
      "138         138  AknMdiMU_L0                      4.0   \n",
      "139         139  WrMikg-ZRlY                      3.0   \n",
      "140         140  _0pCTjCanR8                      2.0   \n",
      "\n",
      "     Question 2.1: Music (1-5)  Question 2.2 : Noise control (1-5)  \\\n",
      "0                          5.0                                 5.0   \n",
      "1                          5.0                                 5.0   \n",
      "2                          4.0                                 5.0   \n",
      "3                          3.0                                 3.0   \n",
      "4                          2.0                                 3.0   \n",
      "..                         ...                                 ...   \n",
      "136                        5.0                                 4.0   \n",
      "137                        2.0                                 3.0   \n",
      "138                        4.0                                 4.0   \n",
      "139                        2.0                                 2.0   \n",
      "140                        1.0                                 2.0   \n",
      "\n",
      "     Question 2.3 : Speaking Style (1-5)  Question 3: Camera (1-5)  \\\n",
      "0                                    5.0                       5.0   \n",
      "1                                    5.0                       5.0   \n",
      "2                                    5.0                       5.0   \n",
      "3                                    3.0                       4.0   \n",
      "4                                    4.0                       3.0   \n",
      "..                                   ...                       ...   \n",
      "136                                  4.0                       4.0   \n",
      "137                                  4.0                       3.0   \n",
      "138                                  4.0                       5.0   \n",
      "139                                  2.0                       2.0   \n",
      "140                                  4.0                       3.0   \n",
      "\n",
      "     Question 3.1: Stable (1-5)  Question 3.2: Angel diversity (0-1)  \\\n",
      "0                           5.0                                  1.0   \n",
      "1                           5.0                                  1.0   \n",
      "2                           5.0                                  1.0   \n",
      "3                           3.0                                  1.0   \n",
      "4                           3.0                                  0.0   \n",
      "..                          ...                                  ...   \n",
      "136                         3.0                                  1.0   \n",
      "137                         3.0                                  1.0   \n",
      "138                         5.0                                  1.0   \n",
      "139                         1.0                                  0.0   \n",
      "140                         2.0                                  0.0   \n",
      "\n",
      "     Question 4: Images (1-5)  Question 4.1: Resolution (1-5)  \\\n",
      "0                         5.0                             5.0   \n",
      "1                         4.0                             4.0   \n",
      "2                         4.0                             4.0   \n",
      "3                         4.0                             4.0   \n",
      "4                         3.0                             4.0   \n",
      "..                        ...                             ...   \n",
      "136                       4.0                             4.0   \n",
      "137                       3.0                             3.0   \n",
      "138                       5.0                             4.0   \n",
      "139                       3.0                             4.0   \n",
      "140                       3.0                             4.0   \n",
      "\n",
      "     Question 4.2: Color (1-5)  Question 5: Content (1-5)  \\\n",
      "0                          5.0                        5.0   \n",
      "1                          5.0                        4.0   \n",
      "2                          5.0                        5.0   \n",
      "3                          3.0                        3.0   \n",
      "4                          3.0                        3.0   \n",
      "..                         ...                        ...   \n",
      "136                        4.0                        4.0   \n",
      "137                        3.0                        4.0   \n",
      "138                        5.0                        5.0   \n",
      "139                        2.0                        1.0   \n",
      "140                        3.0                        2.0   \n",
      "\n",
      "     Question 5.1: Introduction (0-1)  Question 5.2: Food description (0-1)  \\\n",
      "0                                 1.0                                   1.0   \n",
      "1                                 1.0                                   1.0   \n",
      "2                                 1.0                                   1.0   \n",
      "3                                 1.0                                   0.0   \n",
      "4                                 1.0                                   1.0   \n",
      "..                                ...                                   ...   \n",
      "136                               1.0                                   1.0   \n",
      "137                               1.0                                   1.0   \n",
      "138                               1.0                                   1.0   \n",
      "139                               0.0                                   0.0   \n",
      "140                               0.0                                   0.0   \n",
      "\n",
      "     Question 6: Reviewer (1-5)  \\\n",
      "0                           5.0   \n",
      "1                           4.0   \n",
      "2                           4.0   \n",
      "3                           3.0   \n",
      "4                           3.0   \n",
      "..                          ...   \n",
      "136                         4.0   \n",
      "137                         3.0   \n",
      "138                         3.0   \n",
      "139                         2.0   \n",
      "140                         3.0   \n",
      "\n",
      "     Question 6.1: Reviewer emotion is negative - neutral - positive (1-3)  \\\n",
      "0                                                  3.0                       \n",
      "1                                                  3.0                       \n",
      "2                                                  3.0                       \n",
      "3                                                  2.0                       \n",
      "4                                                  2.0                       \n",
      "..                                                 ...                       \n",
      "136                                                3.0                       \n",
      "137                                                2.0                       \n",
      "138                                                3.0                       \n",
      "139                                                2.0                       \n",
      "140                                                2.0                       \n",
      "\n",
      "     Question 6.2: Recommendation (0-1)  \\\n",
      "0                                   0.0   \n",
      "1                                   1.0   \n",
      "2                                   1.0   \n",
      "3                                   0.0   \n",
      "4                                   0.0   \n",
      "..                                  ...   \n",
      "136                                 1.0   \n",
      "137                                 0.0   \n",
      "138                                 0.0   \n",
      "139                                 0.0   \n",
      "140                                 0.0   \n",
      "\n",
      "     Question 6.3: Clear information (0-1)  Attractive Level (1-5)  \n",
      "0                                      1.0                     5.0  \n",
      "1                                      1.0                     5.0  \n",
      "2                                      1.0                     5.0  \n",
      "3                                      0.0                     2.0  \n",
      "4                                      0.0                     3.0  \n",
      "..                                     ...                     ...  \n",
      "136                                    1.0                     4.0  \n",
      "137                                    1.0                     3.0  \n",
      "138                                    1.0                     4.0  \n",
      "139                                    0.0                     2.0  \n",
      "140                                    0.0                     2.0  \n",
      "\n",
      "[141 rows x 20 columns]\n"
     ]
    }
   ],
   "source": [
    "pf = pd.read_csv('../Data/mean_data.csv')\n",
    "print(pf)"
   ]
  },
  {
   "cell_type": "code",
   "execution_count": 73,
   "metadata": {},
   "outputs": [
    {
     "data": {
      "text/plain": [
       "<AxesSubplot:xlabel='Attractive Level (1-5)', ylabel='Count'>"
      ]
     },
     "execution_count": 73,
     "metadata": {},
     "output_type": "execute_result"
    },
    {
     "data": {
      "image/png": "[encoded data removed]",
      "text/plain": [
       "<Figure size 432x288 with 1 Axes>"
      ]
     },
     "metadata": {
      "needs_background": "light"
     },
     "output_type": "display_data"
    }
   ],
   "source": [
    "sns.histplot(pf['Attractive Level (1-5)'], bins=[0.5,1.5,2.5,3.5,4.5,5.5])"
   ]
  },
  {
   "cell_type": "code",
   "execution_count": 74,
   "metadata": {},
   "outputs": [],
   "source": [
    "# for x in pf.columns:\n",
    "#     try:\n",
    "#         plt.plot(pf[x],pf[\"Attractive Level (1-5)\"], 'ro')\n",
    "#         plt.show()\n",
    "#     except:\n",
    "#         pass"
   ]
  },
  {
   "cell_type": "code",
   "execution_count": 75,
   "metadata": {},
   "outputs": [],
   "source": [
    "columns = [\n",
    "       'Question 2: Sound (1-5)', 'Question 2.1: Music (1-5)',\n",
    "       'Question 2.2 : Noise control (1-5)',\n",
    "       'Question 2.3 : Speaking Style (1-5)', 'Question 3: Camera (1-5)',\n",
    "       'Question 3.1: Stable (1-5)', 'Question 3.2: Angel diversity (0-1)',\n",
    "       'Question 4: Images (1-5)', 'Question 4.1: Resolution (1-5)',\n",
    "       'Question 4.2: Color (1-5)', 'Question 5: Content (1-5)',\n",
    "       'Question 5.1: Introduction (0-1)',\n",
    "       'Question 5.2: Food description (0-1)', 'Question 6: Reviewer (1-5)',\n",
    "       'Question 6.1: Reviewer emotion is negative - neutral - positive (1-3)',\n",
    "       'Question 6.2: Recommendation (0-1)',\n",
    "       'Question 6.3: Clear information (0-1)']\n",
    "core_columns = [\n",
    "       'Question 2: Sound (1-5)','Question 3: Camera (1-5)',\n",
    "       'Question 4: Images (1-5)', 'Question 5: Content (1-5)',\n",
    "       'Question 6: Reviewer (1-5)',]\n",
    "output_column = 'Attractive Level (1-5)'"
   ]
  },
  {
   "cell_type": "code",
   "execution_count": 76,
   "metadata": {},
   "outputs": [
    {
     "name": "stdout",
     "output_type": "stream",
     "text": [
      "(112, 17)\n",
      "(29, 17)\n"
     ]
    }
   ],
   "source": [
    "X_train, X_test, y_train, y_test = train_test_split(pf[columns][:], pf[output_column][:], test_size=0.2, shuffle=False)\n",
    "print(X_train.shape)\n",
    "print(X_test.shape)"
   ]
  },
  {
   "cell_type": "code",
   "execution_count": 77,
   "metadata": {},
   "outputs": [
    {
     "name": "stdout",
     "output_type": "stream",
     "text": [
      "Decision tree:\n",
      "train accuracy:  0.8571428571428571\n",
      "test accuracy:  0.7931034482758621\n"
     ]
    }
   ],
   "source": [
    "from sklearn import tree\n",
    "clf = tree.DecisionTreeClassifier(max_depth = 5)\n",
    "clf.fit(X_train, y_train)\n",
    "print('Decision tree:')\n",
    "print('train accuracy: ',clf.score(X_train, y_train))\n",
    "print('test accuracy: ',clf.score(X_test, y_test))"
   ]
  },
  {
   "cell_type": "code",
   "execution_count": 78,
   "metadata": {},
   "outputs": [
    {
     "name": "stdout",
     "output_type": "stream",
     "text": [
      "Softmax Regression:\n",
      "train accuracy:  0.9131901649548707\n",
      "test accuracy:  0.8705357142857143\n"
     ]
    }
   ],
   "source": [
    "from sklearn.linear_model import LogisticRegression\n",
    "\n",
    "clf = LogisticRegression(C=1, solver=\"lbfgs\", multi_class = 'multinomial', max_iter=1e4)\n",
    "clf.fit(X_train, y_train)\n",
    "print('Softmax Regression:')\n",
    "\n",
    "print('train accuracy: ',f1_score(clf.predict(X_train), y_train, average='macro'))\n",
    "print('test accuracy: ',f1_score(clf.predict(X_test), y_test, average='macro'))"
   ]
  },
  {
   "cell_type": "code",
   "execution_count": 79,
   "metadata": {},
   "outputs": [
    {
     "name": "stdout",
     "output_type": "stream",
     "text": [
      "Linear Regression:\n",
      "train accuracy:  0.7216481937602627\n",
      "test accuracy:  0.6525474525474525\n"
     ]
    },
    {
     "data": {
      "image/png": "[encoded data removed]",
      "text/plain": [
       "<Figure size 432x288 with 1 Axes>"
      ]
     },
     "metadata": {
      "needs_background": "light"
     },
     "output_type": "display_data"
    }
   ],
   "source": [
    "from sklearn.linear_model import LinearRegression\n",
    "\n",
    "clf = LinearRegression()\n",
    "clf.fit(X_train, y_train)\n",
    "print('Linear Regression:')\n",
    "result = clf.predict(X_train).round()\n",
    "plt.plot(result, y_train, 'ro')\n",
    "plt.plot([0,6],[0,6], 'b-')\n",
    "# TF = result == y_train\n",
    "# score = len(TF[TF == True]) / len(TF)\n",
    "\n",
    "print('train accuracy: ', f1_score(result, y_train, average='macro'))\n",
    "\n",
    "result = clf.predict(X_test).round()\n",
    "# TF = result == y_test\n",
    "# score = len(TF[TF == True]) / len(TF)\n",
    "print('test accuracy: ', f1_score(result, y_test, average='macro'))"
   ]
  },
  {
   "cell_type": "code",
   "execution_count": 80,
   "metadata": {},
   "outputs": [
    {
     "name": "stdout",
     "output_type": "stream",
     "text": [
      "Multilayer Perceptron:\n",
      "train accuracy:  0.7886797777581798\n",
      "test accuracy:  0.6271708683473389\n"
     ]
    },
    {
     "name": "stderr",
     "output_type": "stream",
     "text": [
      "/home/nghiatnh/anaconda3/lib/python3.8/site-packages/sklearn/neural_network/_multilayer_perceptron.py:614: ConvergenceWarning: Stochastic Optimizer: Maximum iterations (300) reached and the optimization hasn't converged yet.\n",
      "  warnings.warn(\n"
     ]
    }
   ],
   "source": [
    "from sklearn.neural_network import MLPClassifier\n",
    "clf = MLPClassifier(random_state=1, max_iter=300, hidden_layer_sizes=(20, 20, 20))\n",
    "clf.fit(X_train, y_train)\n",
    "print('Multilayer Perceptron:')\n",
    "\n",
    "print('train accuracy: ',f1_score(clf.predict(X_train), y_train, average='macro'))\n",
    "print('test accuracy: ',f1_score(clf.predict(X_test), y_test, average='macro'))"
   ]
  },
  {
   "cell_type": "code",
   "execution_count": 81,
   "metadata": {},
   "outputs": [
    {
     "name": "stdout",
     "output_type": "stream",
     "text": [
      "Support Vector Machine:\n",
      "train accuracy:  0.6491705069124425\n",
      "test accuracy:  0.9021929824561403\n"
     ]
    }
   ],
   "source": [
    "from sklearn.svm import SVC\n",
    "clf = SVC(C=1)\n",
    "clf.fit(X_train, y_train)\n",
    "print('Support Vector Machine:')\n",
    "\n",
    "print('train accuracy: ',f1_score(clf.predict(X_train), y_train, average='macro'))\n",
    "print('test accuracy: ',f1_score(clf.predict(X_test), y_test, average='macro'))\n"
   ]
  },
  {
   "cell_type": "code",
   "execution_count": 82,
   "metadata": {},
   "outputs": [
    {
     "name": "stdout",
     "output_type": "stream",
     "text": [
      "KNN\n",
      "train accuracy:  0.8149336935430268\n",
      "test accuracy:  0.8435511856564488\n"
     ]
    },
    {
     "name": "stderr",
     "output_type": "stream",
     "text": [
      "/home/nghiatnh/anaconda3/lib/python3.8/site-packages/sklearn/neighbors/_classification.py:211: FutureWarning: Unlike other reduction functions (e.g. `skew`, `kurtosis`), the default behavior of `mode` typically preserves the axis it acts along. In SciPy 1.11.0, this behavior will change: the default value of `keepdims` will become False, the `axis` over which the statistic is taken will be eliminated, and the value None will no longer be accepted. Set `keepdims` to True or False to avoid this warning.\n",
      "  mode, _ = stats.mode(_y[neigh_ind, k], axis=1)\n",
      "/home/nghiatnh/anaconda3/lib/python3.8/site-packages/sklearn/neighbors/_classification.py:211: FutureWarning: Unlike other reduction functions (e.g. `skew`, `kurtosis`), the default behavior of `mode` typically preserves the axis it acts along. In SciPy 1.11.0, this behavior will change: the default value of `keepdims` will become False, the `axis` over which the statistic is taken will be eliminated, and the value None will no longer be accepted. Set `keepdims` to True or False to avoid this warning.\n",
      "  mode, _ = stats.mode(_y[neigh_ind, k], axis=1)\n"
     ]
    }
   ],
   "source": [
    "from sklearn.neighbors import KNeighborsClassifier\n",
    "clf = KNeighborsClassifier(n_neighbors=5)\n",
    "clf.fit(X_train, y_train)\n",
    "print('KNN')\n",
    "\n",
    "\n",
    "print('train accuracy: ',f1_score(clf.predict(X_train), y_train, average='macro'))\n",
    "print('test accuracy: ',f1_score(clf.predict(X_test), y_test, average='macro'))"
   ]
  },
  {
   "cell_type": "code",
   "execution_count": 83,
   "metadata": {},
   "outputs": [],
   "source": [
    "def DC():\n",
    "    clf = tree.DecisionTreeClassifier(max_depth = 5)\n",
    "    clf.fit(X_train, y_train)\n",
    "    return (clf.score(X_train, y_train), clf.score(X_test, y_test))\n",
    "\n",
    "def SR():\n",
    "    clf = LogisticRegression(C=1, solver=\"lbfgs\", multi_class = 'multinomial', max_iter=1000)\n",
    "    clf.fit(X_train, y_train)\n",
    "    return (clf.score(X_train, y_train), clf.score(X_test, y_test))\n",
    "\n",
    "def MLP():\n",
    "    clf = MLPClassifier(random_state=1, max_iter=10000, hidden_layer_sizes=(100,))\n",
    "    clf.fit(X_train, y_train)\n",
    "    return (clf.score(X_train, y_train), clf.score(X_test, y_test))\n",
    "\n",
    "def SVM():\n",
    "    clf = SVC(C=1)\n",
    "    clf.fit(X_train, y_train)\n",
    "    return (clf.score(X_train, y_train), clf.score(X_test, y_test))"
   ]
  },
  {
   "cell_type": "code",
   "execution_count": 84,
   "metadata": {},
   "outputs": [],
   "source": [
    "# N = 10\n",
    "# ls_train = []\n",
    "# ls_test = []\n",
    "# for i in range(N):\n",
    "#     X_train, X_test, y_train, y_test = train_test_split(pf[columns][:], pf[output_column][:], test_size=0.2, shuffle=True)\n",
    "#     D = [DC(), SR(), MLP(), SVM()]\n",
    "#     ls_train.append([x[0] for x in D])\n",
    "#     ls_test.append([x[1] for x in D])\n",
    "# print('Decision Tree - Softmax Regression - Multilayer Perceptron - Support Vector Machine')\n",
    "# print('train accuracy: ', np.mean(ls_train, axis=0))\n",
    "# print('test accuracy: ', np.mean(ls_test, axis=0))"
   ]
  }
 ],
 "metadata": {
  "kernelspec": {
   "display_name": "Python 3.8.8 ('base')",
   "language": "python",
   "name": "python3"
  },
  "language_info": {
   "codemirror_mode": {
    "name": "ipython",
    "version": 3
   },
   "file_extension": ".py",
   "mimetype": "text/x-python",
   "name": "python",
   "nbconvert_exporter": "python",
   "pygments_lexer": "ipython3",
   "version": "3.8.8"
  },
  "orig_nbformat": 4,
  "vscode": {
   "interpreter": {
    "hash": "f0cbc8d39e2c910eff8684fa9a53892924e930afdeb920b71e62694c678fa8d0"
   }
  }
 },
 "nbformat": 4,
 "nbformat_minor": 2
}
