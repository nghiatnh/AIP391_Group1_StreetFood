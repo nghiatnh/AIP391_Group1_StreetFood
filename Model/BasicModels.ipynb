{
 "cells": [
  {
   "cell_type": "code",
   "execution_count": 185,
   "metadata": {},
   "outputs": [],
   "source": [
    "import pandas as pd\n",
    "import matplotlib.pyplot as plt\n",
    "import numpy as np\n",
    "import seaborn as sns\n",
    "from sklearn.model_selection import train_test_split\n",
    "from sklearn.metrics import f1_score\n",
    "import pickle"
   ]
  },
  {
   "cell_type": "code",
   "execution_count": 186,
   "metadata": {},
   "outputs": [
    {
     "name": "stdout",
     "output_type": "stream",
     "text": [
      "     Unnamed: 0     video id  Question 2: Sound (1-5)  \\\n",
      "0             0  3gJ_14U5mdY                      4.0   \n",
      "1             1  r1BzB2-Cx7k                      3.0   \n",
      "2             2  otns7IbEAaY                      3.0   \n",
      "3             3  pCh4iq0kj3g                      4.0   \n",
      "4             4  cTOaJzEgXmg                      3.0   \n",
      "..          ...          ...                      ...   \n",
      "130         130  8yBn-c8__Tk                      2.0   \n",
      "131         131  QXGyszq4pic                      3.0   \n",
      "132         132  QXR-hOL5fFs                      3.0   \n",
      "133         133  iGgDCb7ZVdA                      3.0   \n",
      "134         134  bPkoL622W1U                      3.0   \n",
      "\n",
      "     Question 2.1: Music (1-5)  Question 2.2 : Noise control (1-5)  \\\n",
      "0                          4.0                                 4.0   \n",
      "1                          4.0                                 2.0   \n",
      "2                          4.0                                 2.0   \n",
      "3                          4.0                                 5.0   \n",
      "4                          3.0                                 2.0   \n",
      "..                         ...                                 ...   \n",
      "130                        1.0                                 1.0   \n",
      "131                        1.0                                 3.0   \n",
      "132                        1.0                                 2.0   \n",
      "133                        1.0                                 5.0   \n",
      "134                        3.0                                 3.0   \n",
      "\n",
      "     Question 2.3 : Speaking Style (1-5)  Question 3: Camera (1-5)  \\\n",
      "0                                    4.0                       4.0   \n",
      "1                                    4.0                       3.0   \n",
      "2                                    3.0                       4.0   \n",
      "3                                    3.0                       5.0   \n",
      "4                                    3.0                       4.0   \n",
      "..                                   ...                       ...   \n",
      "130                                  3.0                       2.0   \n",
      "131                                  5.0                       4.0   \n",
      "132                                  4.0                       5.0   \n",
      "133                                  1.0                       5.0   \n",
      "134                                  4.0                       3.0   \n",
      "\n",
      "     Question 3.1: Stable (1-5)  Question 3.2: Angel diversity (0-1)  \\\n",
      "0                           4.0                                  1.0   \n",
      "1                           2.0                                  1.0   \n",
      "2                           5.0                                  1.0   \n",
      "3                           5.0                                  1.0   \n",
      "4                           4.0                                  1.0   \n",
      "..                          ...                                  ...   \n",
      "130                         4.0                                  0.0   \n",
      "131                         4.0                                  1.0   \n",
      "132                         5.0                                  1.0   \n",
      "133                         5.0                                  1.0   \n",
      "134                         3.0                                  1.0   \n",
      "\n",
      "     Question 4: Images (1-5)  Question 4.1: Resolution (1-5)  \\\n",
      "0                         4.0                             4.0   \n",
      "1                         3.0                             5.0   \n",
      "2                         3.0                             5.0   \n",
      "3                         4.0                             4.0   \n",
      "4                         4.0                             5.0   \n",
      "..                        ...                             ...   \n",
      "130                       2.0                             4.0   \n",
      "131                       4.0                             4.0   \n",
      "132                       4.0                             5.0   \n",
      "133                       5.0                             5.0   \n",
      "134                       3.0                             4.0   \n",
      "\n",
      "     Question 4.2: Color (1-5)  Question 5: Content (1-5)  \\\n",
      "0                          4.0                        5.0   \n",
      "1                          3.0                        4.0   \n",
      "2                          2.0                        2.0   \n",
      "3                          4.0                        4.0   \n",
      "4                          3.0                        3.0   \n",
      "..                         ...                        ...   \n",
      "130                        1.0                        1.0   \n",
      "131                        3.0                        4.0   \n",
      "132                        4.0                        4.0   \n",
      "133                        5.0                        3.0   \n",
      "134                        3.0                        4.0   \n",
      "\n",
      "     Question 5.1: Introduction (0-1)  Question 5.2: Food description (0-1)  \\\n",
      "0                                 1.0                                   1.0   \n",
      "1                                 1.0                                   1.0   \n",
      "2                                 0.0                                   0.0   \n",
      "3                                 1.0                                   1.0   \n",
      "4                                 1.0                                   1.0   \n",
      "..                                ...                                   ...   \n",
      "130                               0.0                                   0.0   \n",
      "131                               1.0                                   1.0   \n",
      "132                               1.0                                   1.0   \n",
      "133                               1.0                                   0.0   \n",
      "134                               1.0                                   1.0   \n",
      "\n",
      "     Question 6: Reviewer (1-5)  \\\n",
      "0                           4.0   \n",
      "1                           3.0   \n",
      "2                           2.0   \n",
      "3                           4.0   \n",
      "4                           3.0   \n",
      "..                          ...   \n",
      "130                         1.0   \n",
      "131                         3.0   \n",
      "132                         4.0   \n",
      "133                         3.0   \n",
      "134                         4.0   \n",
      "\n",
      "     Question 6.1: Reviewer emotion is negative - neutral - positive (1-3)  \\\n",
      "0                                                  3.0                       \n",
      "1                                                  2.0                       \n",
      "2                                                  3.0                       \n",
      "3                                                  2.0                       \n",
      "4                                                  2.0                       \n",
      "..                                                 ...                       \n",
      "130                                                2.0                       \n",
      "131                                                3.0                       \n",
      "132                                                3.0                       \n",
      "133                                                2.0                       \n",
      "134                                                3.0                       \n",
      "\n",
      "     Question 6.2: Recommendation (0-1)  \\\n",
      "0                                   0.0   \n",
      "1                                   0.0   \n",
      "2                                   0.0   \n",
      "3                                   1.0   \n",
      "4                                   1.0   \n",
      "..                                  ...   \n",
      "130                                 0.0   \n",
      "131                                 0.0   \n",
      "132                                 1.0   \n",
      "133                                 1.0   \n",
      "134                                 1.0   \n",
      "\n",
      "     Question 6.3: Clear information (0-1)  Attractive Level (1-5)  \n",
      "0                                      1.0                     4.0  \n",
      "1                                      1.0                     3.0  \n",
      "2                                      0.0                     2.0  \n",
      "3                                      1.0                     4.0  \n",
      "4                                      1.0                     3.0  \n",
      "..                                     ...                     ...  \n",
      "130                                    0.0                     2.0  \n",
      "131                                    1.0                     3.0  \n",
      "132                                    1.0                     4.0  \n",
      "133                                    1.0                     4.0  \n",
      "134                                    1.0                     2.0  \n",
      "\n",
      "[135 rows x 20 columns]\n"
     ]
    }
   ],
   "source": [
    "pf = pd.read_csv('../Data/median_data.csv')\n",
    "print(pf)"
   ]
  },
  {
   "cell_type": "code",
   "execution_count": 187,
   "metadata": {},
   "outputs": [
    {
     "data": {
      "text/plain": [
       "<AxesSubplot:xlabel='Attractive Level (1-5)', ylabel='Count'>"
      ]
     },
     "execution_count": 187,
     "metadata": {},
     "output_type": "execute_result"
    },
    {
     "data": {
      "image/png": "[encoded data removed]",
      "text/plain": [
       "<Figure size 432x288 with 1 Axes>"
      ]
     },
     "metadata": {
      "needs_background": "light"
     },
     "output_type": "display_data"
    }
   ],
   "source": [
    "sns.histplot(pf['Attractive Level (1-5)'], bins=[0.5,1.5,2.5,3.5,4.5,5.5])"
   ]
  },
  {
   "cell_type": "code",
   "execution_count": 188,
   "metadata": {},
   "outputs": [],
   "source": [
    "# for x in pf.columns:\n",
    "#     try:\n",
    "#         plt.plot(pf[x],pf[\"Attractive Level (1-5)\"], 'ro')\n",
    "#         plt.show()\n",
    "#     except:\n",
    "#         pass"
   ]
  },
  {
   "cell_type": "code",
   "execution_count": 189,
   "metadata": {},
   "outputs": [],
   "source": [
    "columns = [\n",
    "       'Question 2: Sound (1-5)', 'Question 2.1: Music (1-5)',\n",
    "       'Question 2.2 : Noise control (1-5)',\n",
    "       'Question 2.3 : Speaking Style (1-5)', 'Question 3: Camera (1-5)',\n",
    "       'Question 3.1: Stable (1-5)', 'Question 3.2: Angel diversity (0-1)',\n",
    "       'Question 4: Images (1-5)', 'Question 4.1: Resolution (1-5)',\n",
    "       'Question 4.2: Color (1-5)', 'Question 5: Content (1-5)',\n",
    "       'Question 5.1: Introduction (0-1)',\n",
    "       'Question 5.2: Food description (0-1)', 'Question 6: Reviewer (1-5)',\n",
    "       'Question 6.1: Reviewer emotion is negative - neutral - positive (1-3)',\n",
    "       'Question 6.2: Recommendation (0-1)',\n",
    "       'Question 6.3: Clear information (0-1)']\n",
    "core_columns = [\n",
    "       'Question 2: Sound (1-5)','Question 3: Camera (1-5)',\n",
    "       'Question 4: Images (1-5)', 'Question 5: Content (1-5)',\n",
    "       'Question 6: Reviewer (1-5)',]\n",
    "output_column = 'Attractive Level (1-5)'"
   ]
  },
  {
   "cell_type": "code",
   "execution_count": 190,
   "metadata": {},
   "outputs": [
    {
     "name": "stdout",
     "output_type": "stream",
     "text": [
      "(108, 5)\n",
      "(27, 5)\n"
     ]
    }
   ],
   "source": [
    "X_train, X_test, y_train, y_test = train_test_split(pf[core_columns][:], pf[output_column][:], test_size=0.2, shuffle=True)\n",
    "print(X_train.shape)\n",
    "print(X_test.shape)"
   ]
  },
  {
   "cell_type": "code",
   "execution_count": 191,
   "metadata": {},
   "outputs": [
    {
     "name": "stdout",
     "output_type": "stream",
     "text": [
      "Decision tree:\n",
      "train accuracy:  0.8148148148148148\n",
      "test accuracy:  0.7407407407407407\n"
     ]
    }
   ],
   "source": [
    "from sklearn import tree\n",
    "clf = tree.DecisionTreeClassifier(max_depth = 5)\n",
    "clf.fit(X_train, y_train)\n",
    "pickle.dump(clf, open('./Decision_Tree_model', 'wb'))\n",
    "print('Decision tree:')\n",
    "print('train accuracy: ',clf.score(X_train, y_train))\n",
    "print('test accuracy: ',clf.score(X_test, y_test))"
   ]
  },
  {
   "cell_type": "code",
   "execution_count": 192,
   "metadata": {},
   "outputs": [
    {
     "name": "stdout",
     "output_type": "stream",
     "text": [
      "Logistic Regression:\n",
      "train accuracy:  0.8286620835536753\n",
      "test accuracy:  0.828752642706131\n"
     ]
    }
   ],
   "source": [
    "from sklearn.linear_model import LogisticRegression\n",
    "\n",
    "clf = LogisticRegression(C=1, solver=\"lbfgs\", max_iter=1e4)\n",
    "y1 = y_train.copy()\n",
    "y1[y1 < 3] = 0\n",
    "y1[y1 >= 3] = 1\n",
    "y2 = y_test.copy()\n",
    "y2[y2 < 3] = 0\n",
    "y2[y2 >= 3] = 1\n",
    "clf.fit(X_train, y1)\n",
    "pickle.dump(clf, open('./Logistic_Regression_model', 'wb'))\n",
    "print('Logistic Regression:')\n",
    "\n",
    "print('train accuracy: ',f1_score(clf.predict(X_train), y1, average='macro'))\n",
    "print('test accuracy: ',f1_score(clf.predict(X_test), y2, average='macro'))"
   ]
  },
  {
   "cell_type": "code",
   "execution_count": 193,
   "metadata": {},
   "outputs": [
    {
     "name": "stdout",
     "output_type": "stream",
     "text": [
      "Linear Regression:\n",
      "train accuracy:  0.599741935483871\n",
      "test accuracy:  0.7966310160427807\n"
     ]
    },
    {
     "data": {
      "image/png": "[encoded data removed]",
      "text/plain": [
       "<Figure size 432x288 with 1 Axes>"
      ]
     },
     "metadata": {
      "needs_background": "light"
     },
     "output_type": "display_data"
    }
   ],
   "source": [
    "from sklearn.linear_model import LinearRegression\n",
    "\n",
    "clf = LinearRegression()\n",
    "clf.fit(X_train, y_train)\n",
    "print('Linear Regression:')\n",
    "result = clf.predict(X_train).round()\n",
    "pickle.dump(clf, open('./Linear_Regression_model', 'wb'))\n",
    "plt.plot(result, y_train, 'ro')\n",
    "plt.plot([0,6],[0,6], 'b-')\n",
    "# TF = result == y_train\n",
    "# score = len(TF[TF == True]) / len(TF)\n",
    "\n",
    "print('train accuracy: ', f1_score(result, y_train, average='macro'))\n",
    "\n",
    "result = clf.predict(X_test).round()\n",
    "# TF = result == y_test\n",
    "# score = len(TF[TF == True]) / len(TF)\n",
    "print('test accuracy: ', f1_score(result, y_test, average='macro'))"
   ]
  },
  {
   "cell_type": "code",
   "execution_count": 194,
   "metadata": {},
   "outputs": [
    {
     "name": "stdout",
     "output_type": "stream",
     "text": [
      "Multilayer Perceptron:\n",
      "train accuracy:  0.6132597202077388\n",
      "test accuracy:  0.5808020050125313\n"
     ]
    },
    {
     "name": "stderr",
     "output_type": "stream",
     "text": [
      "/home/nghiatnh/anaconda3/lib/python3.8/site-packages/sklearn/neural_network/_multilayer_perceptron.py:702: ConvergenceWarning: Stochastic Optimizer: Maximum iterations (300) reached and the optimization hasn't converged yet.\n",
      "  warnings.warn(\n"
     ]
    }
   ],
   "source": [
    "from sklearn.neural_network import MLPClassifier\n",
    "clf = MLPClassifier(random_state=1, max_iter=300, hidden_layer_sizes=(20, 20, 20))\n",
    "clf.fit(X_train, y_train)\n",
    "pickle.dump(clf, open('./MLP_model', 'wb'))\n",
    "print('Multilayer Perceptron:')\n",
    "\n",
    "print('train accuracy: ',f1_score(clf.predict(X_train), y_train, average='macro'))\n",
    "print('test accuracy: ',f1_score(clf.predict(X_test), y_test, average='macro'))"
   ]
  },
  {
   "cell_type": "code",
   "execution_count": 195,
   "metadata": {},
   "outputs": [
    {
     "name": "stdout",
     "output_type": "stream",
     "text": [
      "Support Vector Machine:\n",
      "train accuracy:  0.6503688454280322\n",
      "test accuracy:  0.5216959511077157\n"
     ]
    }
   ],
   "source": [
    "from sklearn.svm import SVC\n",
    "clf = SVC(C=1)\n",
    "clf.fit(X_train, y_train)\n",
    "pickle.dump(clf, open('./SVM_model', 'wb'))\n",
    "print('Support Vector Machine:')\n",
    "\n",
    "print('train accuracy: ',f1_score(clf.predict(X_train), y_train, average='macro'))\n",
    "print('test accuracy: ',f1_score(clf.predict(X_test), y_test, average='macro'))\n"
   ]
  },
  {
   "cell_type": "code",
   "execution_count": 196,
   "metadata": {},
   "outputs": [
    {
     "name": "stdout",
     "output_type": "stream",
     "text": [
      "KNN\n",
      "train accuracy:  0.6060515873015873\n",
      "test accuracy:  0.4762698412698413\n"
     ]
    }
   ],
   "source": [
    "from sklearn.neighbors import KNeighborsClassifier\n",
    "clf = KNeighborsClassifier(n_neighbors=5)\n",
    "clf.fit(X_train, y_train)\n",
    "pickle.dump(clf, open('./KNN_model', 'wb'))\n",
    "\n",
    "print('KNN')\n",
    "\n",
    "print('train accuracy: ',f1_score(clf.predict(X_train), y_train, average='macro'))\n",
    "print('test accuracy: ',f1_score(clf.predict(X_test), y_test, average='macro'))"
   ]
  },
  {
   "cell_type": "code",
   "execution_count": 197,
   "metadata": {},
   "outputs": [
    {
     "name": "stdout",
     "output_type": "stream",
     "text": [
      "KNeighborsClassifier()\n"
     ]
    }
   ],
   "source": [
    "print(pickle.load(open('./KNN_model', 'rb')))"
   ]
  }
 ],
 "metadata": {
  "kernelspec": {
   "display_name": "Python 3.8.8 ('base')",
   "language": "python",
   "name": "python3"
  },
  "language_info": {
   "codemirror_mode": {
    "name": "ipython",
    "version": 3
   },
   "file_extension": ".py",
   "mimetype": "text/x-python",
   "name": "python",
   "nbconvert_exporter": "python",
   "pygments_lexer": "ipython3",
   "version": "3.8.8"
  },
  "orig_nbformat": 4,
  "vscode": {
   "interpreter": {
    "hash": "f0cbc8d39e2c910eff8684fa9a53892924e930afdeb920b71e62694c678fa8d0"
   }
  }
 },
 "nbformat": 4,
 "nbformat_minor": 2
}
