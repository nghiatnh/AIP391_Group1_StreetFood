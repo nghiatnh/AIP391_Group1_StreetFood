{
 "cells": [
  {
   "cell_type": "code",
   "execution_count": 1,
   "metadata": {},
   "outputs": [],
   "source": [
    "import pandas as pd\n",
    "import numpy as np\n",
    "import seaborn as sns\n",
    "import matplotlib.pyplot as plt"
   ]
  },
  {
   "cell_type": "code",
   "execution_count": 2,
   "metadata": {},
   "outputs": [],
   "source": [
    "pf = pd.read_excel('../Data/Annotation_AllVideos_FPT_Fall_2022_new.xlsx')\n",
    "columns = pf.columns\n",
    "pf = pf[[x for x in columns if x != \"Question 1: Food frame (1-5)\" and x != \"Annotated count\"]].dropna()\n",
    "attractive = pf['Attractive Level (1-5)']\n",
    "pf[attractive == 1.5] = 2\n",
    "pf[attractive == 2.5] = 3\n",
    "pf[attractive == 3.5] = 4\n",
    "pf[attractive == 4.5] = 5"
   ]
  },
  {
   "cell_type": "code",
   "execution_count": 3,
   "metadata": {},
   "outputs": [],
   "source": [
    "pf.to_csv('../Data/data.csv')"
   ]
  }
 ],
 "metadata": {
  "kernelspec": {
   "display_name": "Python 3.8.8 ('base')",
   "language": "python",
   "name": "python3"
  },
  "language_info": {
   "codemirror_mode": {
    "name": "ipython",
    "version": 3
   },
   "file_extension": ".py",
   "mimetype": "text/x-python",
   "name": "python",
   "nbconvert_exporter": "python",
   "pygments_lexer": "ipython3",
   "version": "3.8.8"
  },
  "orig_nbformat": 4,
  "vscode": {
   "interpreter": {
    "hash": "f0cbc8d39e2c910eff8684fa9a53892924e930afdeb920b71e62694c678fa8d0"
   }
  }
 },
 "nbformat": 4,
 "nbformat_minor": 2
}
